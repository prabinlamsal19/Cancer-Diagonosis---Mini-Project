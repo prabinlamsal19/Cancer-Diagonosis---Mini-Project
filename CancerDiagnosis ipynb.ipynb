{
 "cells": [
  {
   "cell_type": "markdown",
   "metadata": {},
   "source": [
    "# Cancer Diagnosis"
   ]
  },
  {
   "cell_type": "markdown",
   "metadata": {},
   "source": []
  },
  {
   "cell_type": "markdown",
   "metadata": {},
   "source": [
    "## Description\n",
    "<p>A lot has been said during the past several years about how precision medicine and, more concretely, how genetic testing is going to disrupt the way diseases like cancer are treated.</p>\n",
    "<p>Once sequenced, a cancer tumor can have thousands of genetic mutations. But the challenge is distinguishing the mutations that contribute to tumor growth (drivers) from the neutral mutations (passengers).  As not all mutations lead to cancer.</p>\n",
    "<p>Due to a mutation in a gene, there is some genetic variation developed in a gene. But the question comes, from which particular mutation this genetic variation happened in a gene. Currently this interpretation of genetic mutations is being done manually which is a very time-consuming task. Based on a gene and a variation in it, a clinical pathologist has to manually review and classify every single genetic mutation based on evidence from text-based clinical literature.</p>\n"
   ]
  },
  {
   "cell_type": "markdown",
   "metadata": {},
   "source": [
    "## Business Problem\n",
    "<p>The workflow is as follows:</p>\n",
    "<p>1. A molecular pathologist selects a list of genetic variations of interest that he/she want to analyze.</p>\n",
    "<p>2. The molecular pathologist searches for evidence in the medical literature that somehow are relevant to the genetic variations of interest.</p>\n",
    "<p>3. Finally, this molecular pathologist spends a huge amount of time analyzing the evidence related to each of the variations to classify them into any one of the 9 different classes.</p>\n",
    "<p>Our goal here is to replace step 3 by a machine learning model. The molecular pathologist will still have to decide which variations are of interest, and also collect the relevant evidence for them. But the last step, which is also the most time consuming, will be fully automated by a machine learning model.</p>\n",
    "\n",
    "## Problem Statement\n",
    "<p>Classify the given genetic variations/mutations based on evidence from text-based clinical literature. In this problem, we need to find the mutation-type given the gene, variation and some text data from published research.</p>"
   ]
  },
  {
   "cell_type": "markdown",
   "metadata": {},
   "source": [
    "## Real-world/Business objectives and constraints.\n",
    "* No low-latency requirement.\n",
    "* Interpretability is important.\n",
    "* Errors can be very costly.\n",
    "* Probability of a data-point belonging to each class is needed."
   ]
  },
  {
   "cell_type": "markdown",
   "metadata": {},
   "source": [
    "## Machine Learning Problem Formulation\n",
    "### Data Overview\n",
    "<p>- Source: https://www.kaggle.com/c/msk-redefining-cancer-treatment/data</p>\n",
    "<p>- We have two data files: one conatins the information about the genetic mutations and the other contains the clinical evidence (text) that  human experts/pathologists use to classify the genetic mutations. Both these data files are have a common column called ID.</p>\n",
    "<p>Data file's information:</p>\n",
    "    <ul> \n",
    "        <li>\n",
    "        training_variants (ID , Gene, Variations, Class)\n",
    "        </li>\n",
    "        <li>\n",
    "        training_text (ID, Text)\n",
    "        </li>\n",
    "    </ul>"
   ]
  },
  {
   "cell_type": "markdown",
   "metadata": {},
   "source": [
    "## Mapping the real-world problem to an ML problem\n",
    "\n",
    "### Type of Machine Learning Problem\n",
    "\n",
    "<p>There are nine different classes a genetic mutation can be classified into => Multi class classification problem</p>\n",
    "\n",
    "### Performance Metric\n",
    "\n",
    "<p>Source: https://www.kaggle.com/c/msk-redefining-cancer-treatment#evaluation</p>\n",
    "\n",
    "<h4 style = \"font-size:17px\">Metric(s):</h4>\n",
    "\n",
    "<ul> \n",
    "    <li>\n",
    "        Multi class log-loss\n",
    "    </li>\n",
    "    <li>\n",
    "        Confusion matrix \n",
    "    </li>\n",
    "</ul>"
   ]
  },
  {
   "cell_type": "markdown",
   "metadata": {},
   "source": [
    "## File Descriptions\n",
    "<p><b>TrainingData</b> - a comma separated file containing the description of the genetic mutations used for training. Fields are ID (the id of the row used to link the mutation to the clinical evidence), Gene (the gene where this genetic mutation is located), Variation (the aminoacid change for this mutations), Class (1-9 the class this genetic mutation has been classified on)</p>\n",
    "<p><b>TrainingText</b> - a double pipe (||) delimited file that contains the clinical evidence (text) used to classify genetic mutations. Fields are ID (the id of the row used to link the clinical evidence to the genetic mutation), Text (the clinical evidence used to classify the genetic mutation)</p>"
   ]
  },
  {
   "cell_type": "markdown",
   "metadata": {},
   "source": [
    "## Train, CV and Test Datasets\n",
    "<p> Split the dataset randomly into three parts train, cross validation and test with 64%,16%, 20% of data respectively</p>"
   ]
  },
  {
   "cell_type": "markdown",
   "metadata": {},
   "source": [
    "<h1>Exploratory Data Analysis</h1>"
   ]
  },
  {
   "cell_type": "code",
   "execution_count": 3,
   "metadata": {},
   "outputs": [],
   "source": [
    "import pandas as pd\n",
    "import matplotlib.pyplot as plt\n",
    "import numpy as np\n",
    "import seaborn as sns\n",
    "import warnings\n",
    "import math\n",
    "import re\n",
    "warnings.simplefilter('ignore')\n",
    "from collections import Counter, defaultdict\n",
    "from scipy.sparse import hstack\n",
    "from scipy.sparse import vstack\n",
    "from sklearn.feature_extraction.text import CountVectorizer\n",
    "from sklearn.feature_extraction.text import TfidfVectorizer\n",
    "from sklearn.linear_model import SGDClassifier\n",
    "\n",
    "from sklearn.svm import SVC\n",
    "from sklearn.calibration import CalibratedClassifierCV\n",
    "from sklearn.naive_bayes import MultinomialNB\n",
    "from sklearn.preprocessing import StandardScaler\n",
    "from sklearn.model_selection import train_test_split\n",
    "from sklearn.metrics import confusion_matrix\n",
    "from sklearn.metrics import accuracy_score, log_loss"
   ]
  },
  {
   "cell_type": "code",
   "execution_count": 4,
   "metadata": {},
   "outputs": [],
   "source": [
    "pd.set_option('display.max_columns', None)\n",
    "pd.set_option('display.max_rows', None)"
   ]
  },
  {
   "cell_type": "markdown",
   "metadata": {},
   "source": [
    "<h1>Reading Data</h1>"
   ]
  },
  {
   "cell_type": "code",
   "execution_count": 5,
   "metadata": {},
   "outputs": [],
   "source": [
    "data = pd.read_csv(\"Data/TrainingData\")"
   ]
  },
  {
   "cell_type": "code",
   "execution_count": 6,
   "metadata": {},
   "outputs": [
    {
     "data": {
      "text/html": [
       "<div>\n",
       "<style scoped>\n",
       "    .dataframe tbody tr th:only-of-type {\n",
       "        vertical-align: middle;\n",
       "    }\n",
       "\n",
       "    .dataframe tbody tr th {\n",
       "        vertical-align: top;\n",
       "    }\n",
       "\n",
       "    .dataframe thead th {\n",
       "        text-align: right;\n",
       "    }\n",
       "</style>\n",
       "<table border=\"1\" class=\"dataframe\">\n",
       "  <thead>\n",
       "    <tr style=\"text-align: right;\">\n",
       "      <th></th>\n",
       "      <th>ID</th>\n",
       "      <th>Gene</th>\n",
       "      <th>Variation</th>\n",
       "      <th>Class</th>\n",
       "    </tr>\n",
       "  </thead>\n",
       "  <tbody>\n",
       "    <tr>\n",
       "      <th>0</th>\n",
       "      <td>0</td>\n",
       "      <td>FAM58A</td>\n",
       "      <td>Truncating Mutations</td>\n",
       "      <td>1</td>\n",
       "    </tr>\n",
       "    <tr>\n",
       "      <th>1</th>\n",
       "      <td>1</td>\n",
       "      <td>CBL</td>\n",
       "      <td>W802*</td>\n",
       "      <td>2</td>\n",
       "    </tr>\n",
       "    <tr>\n",
       "      <th>2</th>\n",
       "      <td>2</td>\n",
       "      <td>CBL</td>\n",
       "      <td>Q249E</td>\n",
       "      <td>2</td>\n",
       "    </tr>\n",
       "    <tr>\n",
       "      <th>3</th>\n",
       "      <td>3</td>\n",
       "      <td>CBL</td>\n",
       "      <td>N454D</td>\n",
       "      <td>3</td>\n",
       "    </tr>\n",
       "    <tr>\n",
       "      <th>4</th>\n",
       "      <td>4</td>\n",
       "      <td>CBL</td>\n",
       "      <td>L399V</td>\n",
       "      <td>4</td>\n",
       "    </tr>\n",
       "    <tr>\n",
       "      <th>5</th>\n",
       "      <td>5</td>\n",
       "      <td>CBL</td>\n",
       "      <td>V391I</td>\n",
       "      <td>4</td>\n",
       "    </tr>\n",
       "    <tr>\n",
       "      <th>6</th>\n",
       "      <td>6</td>\n",
       "      <td>CBL</td>\n",
       "      <td>V430M</td>\n",
       "      <td>5</td>\n",
       "    </tr>\n",
       "    <tr>\n",
       "      <th>7</th>\n",
       "      <td>7</td>\n",
       "      <td>CBL</td>\n",
       "      <td>Deletion</td>\n",
       "      <td>1</td>\n",
       "    </tr>\n",
       "    <tr>\n",
       "      <th>8</th>\n",
       "      <td>8</td>\n",
       "      <td>CBL</td>\n",
       "      <td>Y371H</td>\n",
       "      <td>4</td>\n",
       "    </tr>\n",
       "    <tr>\n",
       "      <th>9</th>\n",
       "      <td>9</td>\n",
       "      <td>CBL</td>\n",
       "      <td>C384R</td>\n",
       "      <td>4</td>\n",
       "    </tr>\n",
       "  </tbody>\n",
       "</table>\n",
       "</div>"
      ],
      "text/plain": [
       "   ID    Gene             Variation  Class\n",
       "0   0  FAM58A  Truncating Mutations      1\n",
       "1   1     CBL                 W802*      2\n",
       "2   2     CBL                 Q249E      2\n",
       "3   3     CBL                 N454D      3\n",
       "4   4     CBL                 L399V      4\n",
       "5   5     CBL                 V391I      4\n",
       "6   6     CBL                 V430M      5\n",
       "7   7     CBL              Deletion      1\n",
       "8   8     CBL                 Y371H      4\n",
       "9   9     CBL                 C384R      4"
      ]
     },
     "execution_count": 6,
     "metadata": {},
     "output_type": "execute_result"
    }
   ],
   "source": [
    "data.head(10)"
   ]
  },
  {
   "cell_type": "code",
   "execution_count": 7,
   "metadata": {},
   "outputs": [
    {
     "data": {
      "text/plain": [
       "(3321, 4)"
      ]
     },
     "execution_count": 7,
     "metadata": {},
     "output_type": "execute_result"
    }
   ],
   "source": [
    "data.shape"
   ]
  },
  {
   "cell_type": "code",
   "execution_count": 8,
   "metadata": {},
   "outputs": [],
   "source": [
    "data_text = pd.read_csv(\"Data/TrainingText\", sep = \"\\|\\|\", names = [\"ID\", \"Text\"])"
   ]
  },
  {
   "cell_type": "code",
   "execution_count": 9,
   "metadata": {},
   "outputs": [],
   "source": [
    "data_text = data_text.drop(0, axis = 0)"
   ]
  },
  {
   "cell_type": "code",
   "execution_count": 10,
   "metadata": {},
   "outputs": [],
   "source": [
    "data_text = data_text.reset_index(drop = True)"
   ]
  },
  {
   "cell_type": "code",
   "execution_count": 11,
   "metadata": {},
   "outputs": [
    {
     "data": {
      "text/html": [
       "<div>\n",
       "<style scoped>\n",
       "    .dataframe tbody tr th:only-of-type {\n",
       "        vertical-align: middle;\n",
       "    }\n",
       "\n",
       "    .dataframe tbody tr th {\n",
       "        vertical-align: top;\n",
       "    }\n",
       "\n",
       "    .dataframe thead th {\n",
       "        text-align: right;\n",
       "    }\n",
       "</style>\n",
       "<table border=\"1\" class=\"dataframe\">\n",
       "  <thead>\n",
       "    <tr style=\"text-align: right;\">\n",
       "      <th></th>\n",
       "      <th>ID</th>\n",
       "      <th>Text</th>\n",
       "    </tr>\n",
       "  </thead>\n",
       "  <tbody>\n",
       "    <tr>\n",
       "      <th>0</th>\n",
       "      <td>0</td>\n",
       "      <td>Cyclin-dependent kinases (CDKs) regulate a var...</td>\n",
       "    </tr>\n",
       "    <tr>\n",
       "      <th>1</th>\n",
       "      <td>1</td>\n",
       "      <td>Abstract Background  Non-small cell lung canc...</td>\n",
       "    </tr>\n",
       "    <tr>\n",
       "      <th>2</th>\n",
       "      <td>2</td>\n",
       "      <td>Abstract Background  Non-small cell lung canc...</td>\n",
       "    </tr>\n",
       "    <tr>\n",
       "      <th>3</th>\n",
       "      <td>3</td>\n",
       "      <td>Recent evidence has demonstrated that acquired...</td>\n",
       "    </tr>\n",
       "    <tr>\n",
       "      <th>4</th>\n",
       "      <td>4</td>\n",
       "      <td>Oncogenic mutations in the monomeric Casitas B...</td>\n",
       "    </tr>\n",
       "  </tbody>\n",
       "</table>\n",
       "</div>"
      ],
      "text/plain": [
       "  ID                                               Text\n",
       "0  0  Cyclin-dependent kinases (CDKs) regulate a var...\n",
       "1  1   Abstract Background  Non-small cell lung canc...\n",
       "2  2   Abstract Background  Non-small cell lung canc...\n",
       "3  3  Recent evidence has demonstrated that acquired...\n",
       "4  4  Oncogenic mutations in the monomeric Casitas B..."
      ]
     },
     "execution_count": 11,
     "metadata": {},
     "output_type": "execute_result"
    }
   ],
   "source": [
    "data_text.head()"
   ]
  },
  {
   "cell_type": "code",
   "execution_count": 12,
   "metadata": {},
   "outputs": [
    {
     "data": {
      "text/plain": [
       "(3321, 2)"
      ]
     },
     "execution_count": 12,
     "metadata": {},
     "output_type": "execute_result"
    }
   ],
   "source": [
    "data_text.shape"
   ]
  },
  {
   "cell_type": "code",
   "execution_count": 13,
   "metadata": {},
   "outputs": [],
   "source": [
    "data_text = data_text.drop([\"ID\"], axis = 1)"
   ]
  },
  {
   "cell_type": "code",
   "execution_count": 14,
   "metadata": {},
   "outputs": [],
   "source": [
    "Final_Data = pd.concat([data, data_text], axis = 1)"
   ]
  },
  {
   "cell_type": "code",
   "execution_count": 15,
   "metadata": {},
   "outputs": [
    {
     "data": {
      "text/html": [
       "<div>\n",
       "<style scoped>\n",
       "    .dataframe tbody tr th:only-of-type {\n",
       "        vertical-align: middle;\n",
       "    }\n",
       "\n",
       "    .dataframe tbody tr th {\n",
       "        vertical-align: top;\n",
       "    }\n",
       "\n",
       "    .dataframe thead th {\n",
       "        text-align: right;\n",
       "    }\n",
       "</style>\n",
       "<table border=\"1\" class=\"dataframe\">\n",
       "  <thead>\n",
       "    <tr style=\"text-align: right;\">\n",
       "      <th></th>\n",
       "      <th>ID</th>\n",
       "      <th>Gene</th>\n",
       "      <th>Variation</th>\n",
       "      <th>Class</th>\n",
       "      <th>Text</th>\n",
       "    </tr>\n",
       "  </thead>\n",
       "  <tbody>\n",
       "    <tr>\n",
       "      <th>0</th>\n",
       "      <td>0</td>\n",
       "      <td>FAM58A</td>\n",
       "      <td>Truncating Mutations</td>\n",
       "      <td>1</td>\n",
       "      <td>Cyclin-dependent kinases (CDKs) regulate a var...</td>\n",
       "    </tr>\n",
       "    <tr>\n",
       "      <th>1</th>\n",
       "      <td>1</td>\n",
       "      <td>CBL</td>\n",
       "      <td>W802*</td>\n",
       "      <td>2</td>\n",
       "      <td>Abstract Background  Non-small cell lung canc...</td>\n",
       "    </tr>\n",
       "    <tr>\n",
       "      <th>2</th>\n",
       "      <td>2</td>\n",
       "      <td>CBL</td>\n",
       "      <td>Q249E</td>\n",
       "      <td>2</td>\n",
       "      <td>Abstract Background  Non-small cell lung canc...</td>\n",
       "    </tr>\n",
       "    <tr>\n",
       "      <th>3</th>\n",
       "      <td>3</td>\n",
       "      <td>CBL</td>\n",
       "      <td>N454D</td>\n",
       "      <td>3</td>\n",
       "      <td>Recent evidence has demonstrated that acquired...</td>\n",
       "    </tr>\n",
       "    <tr>\n",
       "      <th>4</th>\n",
       "      <td>4</td>\n",
       "      <td>CBL</td>\n",
       "      <td>L399V</td>\n",
       "      <td>4</td>\n",
       "      <td>Oncogenic mutations in the monomeric Casitas B...</td>\n",
       "    </tr>\n",
       "  </tbody>\n",
       "</table>\n",
       "</div>"
      ],
      "text/plain": [
       "   ID    Gene             Variation  Class  \\\n",
       "0   0  FAM58A  Truncating Mutations      1   \n",
       "1   1     CBL                 W802*      2   \n",
       "2   2     CBL                 Q249E      2   \n",
       "3   3     CBL                 N454D      3   \n",
       "4   4     CBL                 L399V      4   \n",
       "\n",
       "                                                Text  \n",
       "0  Cyclin-dependent kinases (CDKs) regulate a var...  \n",
       "1   Abstract Background  Non-small cell lung canc...  \n",
       "2   Abstract Background  Non-small cell lung canc...  \n",
       "3  Recent evidence has demonstrated that acquired...  \n",
       "4  Oncogenic mutations in the monomeric Casitas B...  "
      ]
     },
     "execution_count": 15,
     "metadata": {},
     "output_type": "execute_result"
    }
   ],
   "source": [
    "Final_Data.head()"
   ]
  },
  {
   "cell_type": "code",
   "execution_count": 16,
   "metadata": {},
   "outputs": [],
   "source": [
    "Final_Data_Label = Final_Data[\"Class\"]"
   ]
  },
  {
   "cell_type": "code",
   "execution_count": 17,
   "metadata": {},
   "outputs": [],
   "source": [
    "Final_Data = Final_Data.drop([\"Class\"], axis = 1)"
   ]
  },
  {
   "cell_type": "code",
   "execution_count": 18,
   "metadata": {},
   "outputs": [
    {
     "data": {
      "text/html": [
       "<div>\n",
       "<style scoped>\n",
       "    .dataframe tbody tr th:only-of-type {\n",
       "        vertical-align: middle;\n",
       "    }\n",
       "\n",
       "    .dataframe tbody tr th {\n",
       "        vertical-align: top;\n",
       "    }\n",
       "\n",
       "    .dataframe thead th {\n",
       "        text-align: right;\n",
       "    }\n",
       "</style>\n",
       "<table border=\"1\" class=\"dataframe\">\n",
       "  <thead>\n",
       "    <tr style=\"text-align: right;\">\n",
       "      <th></th>\n",
       "      <th>ID</th>\n",
       "      <th>Gene</th>\n",
       "      <th>Variation</th>\n",
       "      <th>Text</th>\n",
       "    </tr>\n",
       "  </thead>\n",
       "  <tbody>\n",
       "    <tr>\n",
       "      <th>0</th>\n",
       "      <td>0</td>\n",
       "      <td>FAM58A</td>\n",
       "      <td>Truncating Mutations</td>\n",
       "      <td>Cyclin-dependent kinases (CDKs) regulate a var...</td>\n",
       "    </tr>\n",
       "    <tr>\n",
       "      <th>1</th>\n",
       "      <td>1</td>\n",
       "      <td>CBL</td>\n",
       "      <td>W802*</td>\n",
       "      <td>Abstract Background  Non-small cell lung canc...</td>\n",
       "    </tr>\n",
       "    <tr>\n",
       "      <th>2</th>\n",
       "      <td>2</td>\n",
       "      <td>CBL</td>\n",
       "      <td>Q249E</td>\n",
       "      <td>Abstract Background  Non-small cell lung canc...</td>\n",
       "    </tr>\n",
       "    <tr>\n",
       "      <th>3</th>\n",
       "      <td>3</td>\n",
       "      <td>CBL</td>\n",
       "      <td>N454D</td>\n",
       "      <td>Recent evidence has demonstrated that acquired...</td>\n",
       "    </tr>\n",
       "    <tr>\n",
       "      <th>4</th>\n",
       "      <td>4</td>\n",
       "      <td>CBL</td>\n",
       "      <td>L399V</td>\n",
       "      <td>Oncogenic mutations in the monomeric Casitas B...</td>\n",
       "    </tr>\n",
       "  </tbody>\n",
       "</table>\n",
       "</div>"
      ],
      "text/plain": [
       "   ID    Gene             Variation  \\\n",
       "0   0  FAM58A  Truncating Mutations   \n",
       "1   1     CBL                 W802*   \n",
       "2   2     CBL                 Q249E   \n",
       "3   3     CBL                 N454D   \n",
       "4   4     CBL                 L399V   \n",
       "\n",
       "                                                Text  \n",
       "0  Cyclin-dependent kinases (CDKs) regulate a var...  \n",
       "1   Abstract Background  Non-small cell lung canc...  \n",
       "2   Abstract Background  Non-small cell lung canc...  \n",
       "3  Recent evidence has demonstrated that acquired...  \n",
       "4  Oncogenic mutations in the monomeric Casitas B...  "
      ]
     },
     "execution_count": 18,
     "metadata": {},
     "output_type": "execute_result"
    }
   ],
   "source": [
    "Final_Data.head()"
   ]
  },
  {
   "cell_type": "code",
   "execution_count": 19,
   "metadata": {},
   "outputs": [],
   "source": [
    "Final_Data = pd.concat([Final_Data, Final_Data_Label], axis = 1)"
   ]
  },
  {
   "cell_type": "code",
   "execution_count": 20,
   "metadata": {},
   "outputs": [
    {
     "data": {
      "text/html": [
       "<div>\n",
       "<style scoped>\n",
       "    .dataframe tbody tr th:only-of-type {\n",
       "        vertical-align: middle;\n",
       "    }\n",
       "\n",
       "    .dataframe tbody tr th {\n",
       "        vertical-align: top;\n",
       "    }\n",
       "\n",
       "    .dataframe thead th {\n",
       "        text-align: right;\n",
       "    }\n",
       "</style>\n",
       "<table border=\"1\" class=\"dataframe\">\n",
       "  <thead>\n",
       "    <tr style=\"text-align: right;\">\n",
       "      <th></th>\n",
       "      <th>ID</th>\n",
       "      <th>Gene</th>\n",
       "      <th>Variation</th>\n",
       "      <th>Text</th>\n",
       "      <th>Class</th>\n",
       "    </tr>\n",
       "  </thead>\n",
       "  <tbody>\n",
       "    <tr>\n",
       "      <th>0</th>\n",
       "      <td>0</td>\n",
       "      <td>FAM58A</td>\n",
       "      <td>Truncating Mutations</td>\n",
       "      <td>Cyclin-dependent kinases (CDKs) regulate a var...</td>\n",
       "      <td>1</td>\n",
       "    </tr>\n",
       "    <tr>\n",
       "      <th>1</th>\n",
       "      <td>1</td>\n",
       "      <td>CBL</td>\n",
       "      <td>W802*</td>\n",
       "      <td>Abstract Background  Non-small cell lung canc...</td>\n",
       "      <td>2</td>\n",
       "    </tr>\n",
       "    <tr>\n",
       "      <th>2</th>\n",
       "      <td>2</td>\n",
       "      <td>CBL</td>\n",
       "      <td>Q249E</td>\n",
       "      <td>Abstract Background  Non-small cell lung canc...</td>\n",
       "      <td>2</td>\n",
       "    </tr>\n",
       "    <tr>\n",
       "      <th>3</th>\n",
       "      <td>3</td>\n",
       "      <td>CBL</td>\n",
       "      <td>N454D</td>\n",
       "      <td>Recent evidence has demonstrated that acquired...</td>\n",
       "      <td>3</td>\n",
       "    </tr>\n",
       "    <tr>\n",
       "      <th>4</th>\n",
       "      <td>4</td>\n",
       "      <td>CBL</td>\n",
       "      <td>L399V</td>\n",
       "      <td>Oncogenic mutations in the monomeric Casitas B...</td>\n",
       "      <td>4</td>\n",
       "    </tr>\n",
       "  </tbody>\n",
       "</table>\n",
       "</div>"
      ],
      "text/plain": [
       "   ID    Gene             Variation  \\\n",
       "0   0  FAM58A  Truncating Mutations   \n",
       "1   1     CBL                 W802*   \n",
       "2   2     CBL                 Q249E   \n",
       "3   3     CBL                 N454D   \n",
       "4   4     CBL                 L399V   \n",
       "\n",
       "                                                Text  Class  \n",
       "0  Cyclin-dependent kinases (CDKs) regulate a var...      1  \n",
       "1   Abstract Background  Non-small cell lung canc...      2  \n",
       "2   Abstract Background  Non-small cell lung canc...      2  \n",
       "3  Recent evidence has demonstrated that acquired...      3  \n",
       "4  Oncogenic mutations in the monomeric Casitas B...      4  "
      ]
     },
     "execution_count": 20,
     "metadata": {},
     "output_type": "execute_result"
    }
   ],
   "source": [
    "Final_Data.head()"
   ]
  },
  {
   "cell_type": "code",
   "execution_count": 21,
   "metadata": {},
   "outputs": [
    {
     "name": "stdout",
     "output_type": "stream",
     "text": [
      "1109\n",
      "1277\n",
      "1407\n",
      "1639\n",
      "2755\n"
     ]
    }
   ],
   "source": [
    "#checking for rows having text column as nan\n",
    "for index, textinfo in Final_Data.iterrows():\n",
    "    if type(textinfo[\"Text\"]) is not str:\n",
    "        print(index)"
   ]
  },
  {
   "cell_type": "code",
   "execution_count": 22,
   "metadata": {},
   "outputs": [],
   "source": [
    "#removing rows with text data as nan\n",
    "for index, textinfo in Final_Data.iterrows():\n",
    "    if type(textinfo[\"Text\"]) is not str:\n",
    "        Final_Data.drop(index, axis = 0, inplace = True)"
   ]
  },
  {
   "cell_type": "code",
   "execution_count": 23,
   "metadata": {},
   "outputs": [
    {
     "data": {
      "text/plain": [
       "(3316, 5)"
      ]
     },
     "execution_count": 23,
     "metadata": {},
     "output_type": "execute_result"
    }
   ],
   "source": [
    "Final_Data.shape"
   ]
  },
  {
   "cell_type": "code",
   "execution_count": 24,
   "metadata": {},
   "outputs": [],
   "source": [
    "def pre_processing(clinicalText, indexNumber, columnName):\n",
    "    if type(clinicalText) is not int:\n",
    "        textString = \"\"\n",
    "        #removing special characters\n",
    "        clinicalText1 = re.sub('[^a-zA-Z0-9\\n]', ' ', clinicalText)\n",
    "        #remove any spaces\n",
    "        clinicalText2 = re.sub('\\s+', ' ', clinicalText1)\n",
    "        #converting text to lowercase\n",
    "        textString += clinicalText2.lower()\n",
    "        Final_Data[columnName][indexNumber] = textString"
   ]
  },
  {
   "cell_type": "code",
   "execution_count": 25,
   "metadata": {},
   "outputs": [
    {
     "data": {
      "text/html": [
       "<div>\n",
       "<style scoped>\n",
       "    .dataframe tbody tr th:only-of-type {\n",
       "        vertical-align: middle;\n",
       "    }\n",
       "\n",
       "    .dataframe tbody tr th {\n",
       "        vertical-align: top;\n",
       "    }\n",
       "\n",
       "    .dataframe thead th {\n",
       "        text-align: right;\n",
       "    }\n",
       "</style>\n",
       "<table border=\"1\" class=\"dataframe\">\n",
       "  <thead>\n",
       "    <tr style=\"text-align: right;\">\n",
       "      <th></th>\n",
       "      <th>ID</th>\n",
       "      <th>Gene</th>\n",
       "      <th>Variation</th>\n",
       "      <th>Text</th>\n",
       "      <th>Class</th>\n",
       "    </tr>\n",
       "  </thead>\n",
       "  <tbody>\n",
       "    <tr>\n",
       "      <th>0</th>\n",
       "      <td>0</td>\n",
       "      <td>FAM58A</td>\n",
       "      <td>Truncating Mutations</td>\n",
       "      <td>Cyclin-dependent kinases (CDKs) regulate a var...</td>\n",
       "      <td>1</td>\n",
       "    </tr>\n",
       "    <tr>\n",
       "      <th>1</th>\n",
       "      <td>1</td>\n",
       "      <td>CBL</td>\n",
       "      <td>W802*</td>\n",
       "      <td>Abstract Background  Non-small cell lung canc...</td>\n",
       "      <td>2</td>\n",
       "    </tr>\n",
       "    <tr>\n",
       "      <th>2</th>\n",
       "      <td>2</td>\n",
       "      <td>CBL</td>\n",
       "      <td>Q249E</td>\n",
       "      <td>Abstract Background  Non-small cell lung canc...</td>\n",
       "      <td>2</td>\n",
       "    </tr>\n",
       "    <tr>\n",
       "      <th>3</th>\n",
       "      <td>3</td>\n",
       "      <td>CBL</td>\n",
       "      <td>N454D</td>\n",
       "      <td>Recent evidence has demonstrated that acquired...</td>\n",
       "      <td>3</td>\n",
       "    </tr>\n",
       "    <tr>\n",
       "      <th>4</th>\n",
       "      <td>4</td>\n",
       "      <td>CBL</td>\n",
       "      <td>L399V</td>\n",
       "      <td>Oncogenic mutations in the monomeric Casitas B...</td>\n",
       "      <td>4</td>\n",
       "    </tr>\n",
       "  </tbody>\n",
       "</table>\n",
       "</div>"
      ],
      "text/plain": [
       "   ID    Gene             Variation  \\\n",
       "0   0  FAM58A  Truncating Mutations   \n",
       "1   1     CBL                 W802*   \n",
       "2   2     CBL                 Q249E   \n",
       "3   3     CBL                 N454D   \n",
       "4   4     CBL                 L399V   \n",
       "\n",
       "                                                Text  Class  \n",
       "0  Cyclin-dependent kinases (CDKs) regulate a var...      1  \n",
       "1   Abstract Background  Non-small cell lung canc...      2  \n",
       "2   Abstract Background  Non-small cell lung canc...      2  \n",
       "3  Recent evidence has demonstrated that acquired...      3  \n",
       "4  Oncogenic mutations in the monomeric Casitas B...      4  "
      ]
     },
     "execution_count": 25,
     "metadata": {},
     "output_type": "execute_result"
    }
   ],
   "source": [
    "Final_Data.head()"
   ]
  },
  {
   "cell_type": "code",
   "execution_count": 26,
   "metadata": {},
   "outputs": [],
   "source": [
    "Final_Data_Labels = Final_Data[\"Class\"]"
   ]
  },
  {
   "cell_type": "code",
   "execution_count": 27,
   "metadata": {},
   "outputs": [
    {
     "data": {
      "text/plain": [
       "((3316, 5), (3316,))"
      ]
     },
     "execution_count": 27,
     "metadata": {},
     "output_type": "execute_result"
    }
   ],
   "source": [
    "Final_Data.shape, Final_Data_Labels.shape"
   ]
  },
  {
   "cell_type": "markdown",
   "metadata": {},
   "source": [
    "<h1>Train, cross-validation and test split</h1>\n",
    "<p> Split the dataset randomly into three parts train, cross validation and test with 64%,16%, 20% of data respectively.</p>"
   ]
  },
  {
   "cell_type": "code",
   "execution_count": 28,
   "metadata": {},
   "outputs": [],
   "source": [
    "#replacing any space with underscore\n",
    "Final_Data[\"Gene\"] = Final_Data[\"Gene\"].str.replace(\"\\s+\", \"_\")\n",
    "Final_Data[\"Variation\"] = Final_Data[\"Variation\"].str.replace(\"\\s+\", \"_\")"
   ]
  },
  {
   "cell_type": "code",
   "execution_count": 29,
   "metadata": {},
   "outputs": [
    {
     "data": {
      "text/html": [
       "<div>\n",
       "<style scoped>\n",
       "    .dataframe tbody tr th:only-of-type {\n",
       "        vertical-align: middle;\n",
       "    }\n",
       "\n",
       "    .dataframe tbody tr th {\n",
       "        vertical-align: top;\n",
       "    }\n",
       "\n",
       "    .dataframe thead th {\n",
       "        text-align: right;\n",
       "    }\n",
       "</style>\n",
       "<table border=\"1\" class=\"dataframe\">\n",
       "  <thead>\n",
       "    <tr style=\"text-align: right;\">\n",
       "      <th></th>\n",
       "      <th>ID</th>\n",
       "      <th>Gene</th>\n",
       "      <th>Variation</th>\n",
       "      <th>Text</th>\n",
       "      <th>Class</th>\n",
       "    </tr>\n",
       "  </thead>\n",
       "  <tbody>\n",
       "    <tr>\n",
       "      <th>0</th>\n",
       "      <td>0</td>\n",
       "      <td>FAM58A</td>\n",
       "      <td>Truncating_Mutations</td>\n",
       "      <td>Cyclin-dependent kinases (CDKs) regulate a var...</td>\n",
       "      <td>1</td>\n",
       "    </tr>\n",
       "    <tr>\n",
       "      <th>1</th>\n",
       "      <td>1</td>\n",
       "      <td>CBL</td>\n",
       "      <td>W802*</td>\n",
       "      <td>Abstract Background  Non-small cell lung canc...</td>\n",
       "      <td>2</td>\n",
       "    </tr>\n",
       "    <tr>\n",
       "      <th>2</th>\n",
       "      <td>2</td>\n",
       "      <td>CBL</td>\n",
       "      <td>Q249E</td>\n",
       "      <td>Abstract Background  Non-small cell lung canc...</td>\n",
       "      <td>2</td>\n",
       "    </tr>\n",
       "    <tr>\n",
       "      <th>3</th>\n",
       "      <td>3</td>\n",
       "      <td>CBL</td>\n",
       "      <td>N454D</td>\n",
       "      <td>Recent evidence has demonstrated that acquired...</td>\n",
       "      <td>3</td>\n",
       "    </tr>\n",
       "    <tr>\n",
       "      <th>4</th>\n",
       "      <td>4</td>\n",
       "      <td>CBL</td>\n",
       "      <td>L399V</td>\n",
       "      <td>Oncogenic mutations in the monomeric Casitas B...</td>\n",
       "      <td>4</td>\n",
       "    </tr>\n",
       "  </tbody>\n",
       "</table>\n",
       "</div>"
      ],
      "text/plain": [
       "   ID    Gene             Variation  \\\n",
       "0   0  FAM58A  Truncating_Mutations   \n",
       "1   1     CBL                 W802*   \n",
       "2   2     CBL                 Q249E   \n",
       "3   3     CBL                 N454D   \n",
       "4   4     CBL                 L399V   \n",
       "\n",
       "                                                Text  Class  \n",
       "0  Cyclin-dependent kinases (CDKs) regulate a var...      1  \n",
       "1   Abstract Background  Non-small cell lung canc...      2  \n",
       "2   Abstract Background  Non-small cell lung canc...      2  \n",
       "3  Recent evidence has demonstrated that acquired...      3  \n",
       "4  Oncogenic mutations in the monomeric Casitas B...      4  "
      ]
     },
     "execution_count": 29,
     "metadata": {},
     "output_type": "execute_result"
    }
   ],
   "source": [
    "Final_Data.head()"
   ]
  },
  {
   "cell_type": "code",
   "execution_count": 30,
   "metadata": {},
   "outputs": [],
   "source": [
    "X_Train, TestData, Y_Train, TestLabels = train_test_split(Final_Data, Final_Data_Labels, stratify=Final_Data_Labels, test_size=0.2)\n",
    "TrainData, CV_Data, TrainDataLabels, CV_Data_Labels = train_test_split(X_Train, Y_Train, stratify=Y_Train, test_size=0.2)\n",
    "\n",
    "# This stratify parameter makes a split so that the proportion of values in the sample produced will be the same as the \n",
    "# proportion of values provided to parameter stratify.\n",
    "# For example, if variable y is a binary categorical variable with values 0 and 1 and there are 25% of zeros and 75% of ones, \n",
    "# stratify=y will make sure that your random split has 25% of 0's and 75% of 1's."
   ]
  },
  {
   "cell_type": "code",
   "execution_count": 31,
   "metadata": {},
   "outputs": [
    {
     "data": {
      "text/plain": [
       "((2652, 5), (664, 5), (2652,), (664,))"
      ]
     },
     "execution_count": 31,
     "metadata": {},
     "output_type": "execute_result"
    }
   ],
   "source": [
    "X_Train.shape, TestData.shape, Y_Train.shape, TestLabels.shape"
   ]
  },
  {
   "cell_type": "code",
   "execution_count": 32,
   "metadata": {},
   "outputs": [
    {
     "name": "stdout",
     "output_type": "stream",
     "text": [
      "Number of data points in train data: 2121\n",
      "Number of data points in test data: 664\n",
      "Number of data points in cross validation data: 531\n"
     ]
    }
   ],
   "source": [
    "print('Number of data points in train data:', TrainData.shape[0])\n",
    "print('Number of data points in test data:', TestData.shape[0])\n",
    "print('Number of data points in cross validation data:', CV_Data.shape[0])"
   ]
  },
  {
   "cell_type": "markdown",
   "metadata": {},
   "source": [
    "<h1>Distribution of Class labels in Train, CV and Test data</h1>"
   ]
  },
  {
   "cell_type": "code",
   "execution_count": 33,
   "metadata": {},
   "outputs": [],
   "source": [
    "TrainData_distribution = TrainData[\"Class\"].value_counts().sort_index()\n",
    "CVData_distribution = CV_Data[\"Class\"].value_counts().sort_index()\n",
    "TestData_distribution = TestData[\"Class\"].value_counts().sort_index()"
   ]
  },
  {
   "cell_type": "code",
   "execution_count": 34,
   "metadata": {},
   "outputs": [],
   "source": [
    "TrainData_distribution_sorted = sorted(TrainData_distribution.items(), key = lambda d: d[1], reverse = True)\n",
    "CVData_distribution_sorted = sorted(CVData_distribution.items(), key = lambda d: d[1], reverse = True)\n",
    "TestData_distribution_sorted = sorted(TestData_distribution.items(), key = lambda d: d[1], reverse = True)"
   ]
  },
  {
   "cell_type": "code",
   "execution_count": 35,
   "metadata": {},
   "outputs": [
    {
     "data": {
      "image/png": "[encoded data removed]",
      "text/plain": [
       "<Figure size 720x432 with 1 Axes>"
      ]
     },
     "metadata": {
      "needs_background": "light"
     },
     "output_type": "display_data"
    },
    {
     "name": "stdout",
     "output_type": "stream",
     "text": [
      "Number of training data points in class 7 = 609(28.7129%)\n",
      "Number of training data points in class 4 = 439(20.6978%)\n",
      "Number of training data points in class 1 = 362(17.0674%)\n",
      "Number of training data points in class 2 = 289(13.6256%)\n",
      "Number of training data points in class 6 = 174(8.2037%)\n",
      "Number of training data points in class 5 = 155(7.3079%)\n",
      "Number of training data points in class 3 = 57(2.6874%)\n",
      "Number of training data points in class 9 = 24(1.1315%)\n",
      "Number of training data points in class 8 = 12(0.5658%)\n",
      "--------------------------------------------------------------------------------\n"
     ]
    },
    {
     "data": {
      "image/png": "[encoded data removed]",
      "text/plain": [
       "<Figure size 720x432 with 1 Axes>"
      ]
     },
     "metadata": {
      "needs_background": "light"
     },
     "output_type": "display_data"
    },
    {
     "name": "stdout",
     "output_type": "stream",
     "text": [
      "Number of CV data points in class 7 = 152(28.6252%)\n",
      "Number of CV data points in class 4 = 110(20.7156%)\n",
      "Number of CV data points in class 1 = 91(17.1375%)\n",
      "Number of CV data points in class 2 = 72(13.5593%)\n",
      "Number of CV data points in class 6 = 44(8.2863%)\n",
      "Number of CV data points in class 5 = 39(7.3446%)\n",
      "Number of CV data points in class 3 = 14(2.6365%)\n",
      "Number of CV data points in class 9 = 6(1.1299%)\n",
      "Number of CV data points in class 8 = 3(0.565%)\n",
      "--------------------------------------------------------------------------------\n"
     ]
    },
    {
     "data": {
      "image/png": "[encoded data removed]",
      "text/plain": [
       "<Figure size 720x432 with 1 Axes>"
      ]
     },
     "metadata": {
      "needs_background": "light"
     },
     "output_type": "display_data"
    },
    {
     "name": "stdout",
     "output_type": "stream",
     "text": [
      "Number of test data points in class 7 = 191(28.7651%)\n",
      "Number of test data points in class 4 = 137(20.6325%)\n",
      "Number of test data points in class 1 = 113(17.0181%)\n",
      "Number of test data points in class 2 = 91(13.7048%)\n",
      "Number of test data points in class 6 = 55(8.2831%)\n",
      "Number of test data points in class 5 = 48(7.2289%)\n",
      "Number of test data points in class 3 = 18(2.7108%)\n",
      "Number of test data points in class 9 = 7(1.0542%)\n",
      "Number of test data points in class 8 = 4(0.6024%)\n"
     ]
    }
   ],
   "source": [
    "plt.figure(figsize = (10, 6))\n",
    "TrainData_distribution.plot(kind = \"bar\")\n",
    "plt.grid()\n",
    "plt.title(\"Distribution of class labels in training data\", fontsize = 20)\n",
    "plt.xlabel(\"Class\", fontsize = 20)\n",
    "plt.ylabel(\"Number of Data Points\", fontsize = 20)\n",
    "plt.show()\n",
    "\n",
    "for i in TrainData_distribution_sorted:\n",
    "    print(\"Number of training data points in class \"+str(i[0])+\" = \"+str(i[1])+ \"(\"+str(np.round(((i[1]/TrainData.shape[0])*100), 4))+\"%)\")\n",
    "\n",
    "print(\"-\"*80)\n",
    "\n",
    "plt.figure(figsize = (10, 6))\n",
    "CVData_distribution.plot(kind = \"bar\")\n",
    "plt.grid()\n",
    "plt.title(\"Distribution of class labels in validation data\", fontsize = 20)\n",
    "plt.xlabel(\"Class\", fontsize = 20)\n",
    "plt.ylabel(\"Number of Data Points\", fontsize = 20)\n",
    "plt.show()\n",
    "\n",
    "for i in CVData_distribution_sorted:\n",
    "    print(\"Number of CV data points in class \"+str(i[0])+\" = \"+str(i[1])+ \"(\"+str(np.round(((i[1]/CV_Data.shape[0])*100), 4))+\"%)\")\n",
    "\n",
    "print(\"-\"*80)\n",
    "\n",
    "plt.figure(figsize = (10, 6))\n",
    "TestData_distribution.plot(kind = \"bar\")\n",
    "plt.grid()\n",
    "plt.title(\"Distribution of class labels in test data\", fontsize = 20)\n",
    "plt.xlabel(\"Class\", fontsize = 20)\n",
    "plt.ylabel(\"Number of Data Points\", fontsize = 20)\n",
    "plt.show()\n",
    "\n",
    "for i in TestData_distribution_sorted:\n",
    "    print(\"Number of test data points in class \"+str(i[0])+\" = \"+str(i[1])+ \"(\"+str(np.round(((i[1]/TestData.shape[0])*100), 4))+\"%)\")\n"
   ]
  },
  {
   "cell_type": "markdown",
   "metadata": {},
   "source": [
    "this is the confusion matrix function for later on"
   ]
  },
  {
   "cell_type": "code",
   "execution_count": 36,
   "metadata": {},
   "outputs": [],
   "source": [
    "def print_confusionMatrix(Y_TestLabels, PredictedLabels):\n",
    "    confusionMatx = confusion_matrix(Y_TestLabels, PredictedLabels)\n",
    "    \n",
    "    precision = confusionMatx/confusionMatx.sum(axis = 0)\n",
    "    \n",
    "    recall = (confusionMatx.T/confusionMatx.sum(axis = 1)).T\n",
    "    \n",
    "    labels = [i for i in range(1, 10)]\n",
    "    \n",
    "    plt.figure(figsize=(20,7))\n",
    "    sns.heatmap(confusionMatx, cmap = \"Reds\", annot = True, xticklabels=labels, yticklabels=labels)\n",
    "    plt.title(\"Confusion Matrix\", fontsize = 30)\n",
    "    plt.xlabel('Predicted Class', fontsize = 20)\n",
    "    plt.ylabel('Original Class', fontsize = 20)\n",
    "    plt.show()\n",
    "    \n",
    "    print(\"-\"*125)\n",
    "    \n",
    "    plt.figure(figsize=(20,7))\n",
    "    sns.heatmap(precision, cmap = \"Reds\", annot = True, fmt = \".4f\", xticklabels=labels, yticklabels=labels)\n",
    "    plt.title(\"Precision Matrix\", fontsize = 30)\n",
    "    plt.xlabel('Predicted Class', fontsize = 20)\n",
    "    plt.ylabel('Original Class', fontsize = 20)\n",
    "    plt.show()\n",
    "    \n",
    "    print(\"-\"*125)\n",
    "    \n",
    "    plt.figure(figsize=(20,7))\n",
    "    sns.heatmap(recall, cmap = \"Reds\", annot = True, fmt = \".3f\", xticklabels=labels, yticklabels=labels)\n",
    "    plt.title(\"Recall Matrix\", fontsize = 30)\n",
    "    plt.xlabel('Predicted Class', fontsize = 20)\n",
    "    plt.ylabel('Original Class', fontsize = 20)\n",
    "    plt.show()"
   ]
  },
  {
   "cell_type": "code",
   "execution_count": 38,
   "metadata": {},
   "outputs": [],
   "source": [
    "# def response_coded_featureDict(alpha, feature, df):\n",
    "    \n",
    "#     value_count = TrainData[feature].value_counts()\n",
    "#     rc_values = dict()\n",
    "    \n",
    "#     for i, denominator in value_count.items():\n",
    "#         vec = []\n",
    "#         for k in range(1, 10):\n",
    "#             cls_cnt = TrainData.loc[(TrainData[\"Class\"]==k) & (TrainData[feature]==i)]\n",
    "# # build a vector (1*9) , the first element = (number of times it occured in class1 + 10*alpha / number of time it occurred in total data+(90*alpha))\n",
    "# # here, adding 10*alpha in numerator and 90*alpha in denominator is nothing but laplace smoothing which we did in Naive Bayes \n",
    "#             vec.append((cls_cnt.shape[0] + 10*alpha)/denominator + (90*alpha))    \n",
    "#         rc_values[i] = vec\n",
    "#     return rc_values\n",
    "\n",
    "\n",
    "# def response_coded_values(alpha, feature, df):\n",
    "#     get_rc_values = response_coded_featureDict(alpha, feature, df)\n",
    "#     get_value_count = TrainData[feature].value_counts()\n",
    "#     get_feat_values = []\n",
    "#     for index, row in df.iterrows():\n",
    "#         if row[feature] in dict(get_value_count).keys():\n",
    "#             get_feat_values.append(get_rc_values[row[feature]])\n",
    "#         else:\n",
    "#             get_feat_values.append([1/9,1/9,1/9,1/9,1/9,1/9,1/9,1/9,1/9])\n",
    "#     return get_feat_values"
   ]
  },
  {
   "cell_type": "markdown",
   "metadata": {},
   "source": [
    "When we calculate the probability of a feature belongs to any particular class, we apply laplace smoothing\n",
    "<li>(numerator + alpha) / (denominator + (9*alpha)) </li>"
   ]
  },
  {
   "cell_type": "markdown",
   "metadata": {},
   "source": []
  },
  {
   "cell_type": "markdown",
   "metadata": {},
   "source": [
    "# Univariate analysis of the gene attribute\n",
    "\n",
    "This is what the gene attribute looks like."
   ]
  },
  {
   "cell_type": "code",
   "execution_count": 39,
   "metadata": {},
   "outputs": [],
   "source": [
    "# unique_genes = TrainData[\"Gene\"].value_counts()\n",
    "# print(\"Number of Unique genes = \"+str(unique_genes.shape[0]))\n",
    "# print(unique_genes.head(10))"
   ]
  },
  {
   "cell_type": "code",
   "execution_count": null,
   "metadata": {},
   "outputs": [],
   "source": []
  },
  {
   "cell_type": "code",
   "execution_count": 40,
   "metadata": {},
   "outputs": [],
   "source": [
    "# s = sum(unique_genes.values)\n",
    "# h = unique_genes.values/s\n",
    "# plt.figure(figsize = (10, 6))\n",
    "# plt.plot(h)\n",
    "# plt.title(\"Histrogram of Genes\", fontsize = 20)\n",
    "# plt.xlabel('Index of a Gene', fontsize = 20)\n",
    "# plt.ylabel('Number of Occurances', fontsize = 20)\n",
    "# plt.grid()\n",
    "# plt.show()"
   ]
  },
  {
   "cell_type": "code",
   "execution_count": 41,
   "metadata": {},
   "outputs": [],
   "source": [
    "# s = sum(unique_genes.values)\n",
    "# h = unique_genes.values/s\n",
    "# plt.figure(figsize = (10, 6))\n",
    "# plt.plot(np.cumsum(h))\n",
    "# plt.title(\"Cumulative plot of Genes\", fontsize = 20)\n",
    "# plt.xlabel('Index of a Gene', fontsize = 20)\n",
    "# plt.ylabel('Percentage of Occurances', fontsize = 20)\n",
    "# plt.grid()\n",
    "# plt.show()"
   ]
  },
  {
   "cell_type": "markdown",
   "metadata": {},
   "source": [
    "<p> <b>Q3.</b> How to featurize this Gene feature ?</p>\n",
    "<ol><li>One-hot Coding</li></ol>"
   ]
  },
  {
   "cell_type": "code",
   "execution_count": 45,
   "metadata": {},
   "outputs": [],
   "source": [
    "geneVectorizer = CountVectorizer() #It is used to transform a given text into a vector on the basis of the frequency (count) \n",
    "#of each word that occurs in the entire text\n",
    "\n",
    "train_gene_feature_onehotCoding = geneVectorizer.fit_transform(TrainData['Gene'])  #model is trained at first with fit_transform\n",
    "test_gene_feature_onehotCoding = geneVectorizer.transform(TestData['Gene'])\n",
    "cv_gene_feature_onehotCoding = geneVectorizer.transform(CV_Data['Gene'])"
   ]
  },
  {
   "cell_type": "code",
   "execution_count": 46,
   "metadata": {},
   "outputs": [
    {
     "name": "stdout",
     "output_type": "stream",
     "text": [
      "Size of one-hot encoded features in train data = (2121, 231)\n",
      "Size of one-hot encoded features in test data = (664, 231)\n",
      "Size of one-hot encoded features in CV data = (531, 231)\n"
     ]
    }
   ],
   "source": [
    "print(\"Size of one-hot encoded features in train data = \"+str(train_gene_feature_onehotCoding.shape))\n",
    "print(\"Size of one-hot encoded features in test data = \"+str(test_gene_feature_onehotCoding.shape))\n",
    "print(\"Size of one-hot encoded features in CV data = \"+str(cv_gene_feature_onehotCoding.shape))"
   ]
  },
  {
   "cell_type": "markdown",
   "metadata": {},
   "source": [
    "<h3>Building the model only using the 'gene' attribute using logistic regression </h3>\n",
    "<p>There are many ways to estimate how good a feature is, in predicting y_i. One of the good methods is to build a proper ML model using just this feature. In this case, we will build a logistic regression model using only Gene feature (one hot encoded) to predict y_i.</p>"
   ]
  },
  {
   "cell_type": "code",
   "execution_count": 47,
   "metadata": {},
   "outputs": [
    {
     "name": "stdout",
     "output_type": "stream",
     "text": [
      "For alpha value of 1e-05 CV log loss = 1.203900899419146\n",
      "For alpha value of 0.0001 CV log loss = 1.1837265952815095\n",
      "For alpha value of 0.001 CV log loss = 1.2165419135814222\n",
      "For alpha value of 0.01 CV log loss = 1.3098023731189266\n",
      "For alpha value of 0.1 CV log loss = 1.4029407079250082\n",
      "For alpha value of 1 CV log loss = 1.447623716469742\n"
     ]
    },
    {
     "data": {
      "image/png": "[encoded data removed]",
      "text/plain": [
       "<Figure size 864x504 with 1 Axes>"
      ]
     },
     "metadata": {
      "needs_background": "light"
     },
     "output_type": "display_data"
    }
   ],
   "source": [
    "alpha = [10 ** x for x in range(-5, 1)]\n",
    "\n",
    "cv_log_loss = []\n",
    "for i in alpha:\n",
    "    clf = SGDClassifier(alpha=i, penalty='l2', loss='log', random_state=42)\n",
    "    clf.fit(train_gene_feature_onehotCoding, TrainDataLabels)\n",
    "    calib_clf = CalibratedClassifierCV(clf, method = \"sigmoid\")\n",
    "    #this is a cross-validation\n",
    "    calib_clf.fit(train_gene_feature_onehotCoding, TrainDataLabels)\n",
    "    predicted_y = calib_clf.predict_proba(cv_gene_feature_onehotCoding)\n",
    "    cv_log_loss.append(log_loss(CV_Data_Labels, predicted_y, labels=clf.classes_))\n",
    "    print(\"For alpha value of \"+str(i)+\" CV log loss = \"+str(log_loss(CV_Data_Labels, predicted_y, labels=clf.classes_)))\n",
    "\n",
    "plt.figure(figsize = (12, 7))\n",
    "plt.plot(alpha, cv_log_loss)\n",
    "for xy in zip(alpha, np.round(cv_log_loss, 4)):\n",
    "    plt.annotate(xy, xy)\n",
    "    \n",
    "plt.title(\"Alpha vs Log-loss\", fontsize = 20)\n",
    "plt.xlabel(\"Alpha\", fontsize = 20)\n",
    "plt.ylabel(\"Log-Loss\", fontsize = 20)\n",
    "plt.show()"
   ]
  },
  {
   "cell_type": "code",
   "execution_count": 48,
   "metadata": {},
   "outputs": [
    {
     "name": "stdout",
     "output_type": "stream",
     "text": [
      "For values of best alpha =  0.0001 the train log loss =: 0.9609248272662352\n",
      "For values of best alpha =  0.0001 the CV log loss =: 1.1837265952815095\n",
      "For values of best alpha =  0.0001 the test log loss =: 1.2486055337356143\n"
     ]
    }
   ],
   "source": [
    "best_alpha = alpha[np.argmin(cv_log_loss)]\n",
    "clf = SGDClassifier(alpha=best_alpha, penalty='l2', loss='log', random_state=42)\n",
    "clf.fit(train_gene_feature_onehotCoding, TrainDataLabels)\n",
    "calib_clf = CalibratedClassifierCV(clf, method = \"sigmoid\")\n",
    "calib_clf.fit(train_gene_feature_onehotCoding, TrainDataLabels)\n",
    "\n",
    "predict_train = calib_clf.predict_proba(train_gene_feature_onehotCoding)\n",
    "print('For values of best alpha = ', best_alpha, \"the train log loss =:\",log_loss(TrainDataLabels, predict_train, labels=clf.classes_))\n",
    "\n",
    "predict_cv = calib_clf.predict_proba(cv_gene_feature_onehotCoding)\n",
    "print('For values of best alpha = ', best_alpha, \"the CV log loss =:\",log_loss(CV_Data_Labels, predict_cv, labels=clf.classes_))\n",
    "\n",
    "predict_test = calib_clf.predict_proba(test_gene_feature_onehotCoding)\n",
    "print('For values of best alpha = ', best_alpha, \"the test log loss =:\",log_loss(TestLabels, predict_test, labels=clf.classes_))"
   ]
  },
  {
   "cell_type": "markdown",
   "metadata": {},
   "source": [
    "<h1>Univariate Analysis on Variation Feature</h1>"
   ]
  },
  {
   "cell_type": "code",
   "execution_count": 51,
   "metadata": {},
   "outputs": [
    {
     "name": "stdout",
     "output_type": "stream",
     "text": [
      "Number of Unique variations = 1918\n",
      "Truncating_Mutations    62\n",
      "Deletion                47\n",
      "Amplification           45\n",
      "Fusions                 25\n",
      "Overexpression           4\n",
      "E17K                     3\n",
      "T58I                     3\n",
      "G12A                     2\n",
      "Q61K                     2\n",
      "F384L                    2\n",
      "Name: Variation, dtype: int64\n"
     ]
    }
   ],
   "source": [
    "unique_variation = TrainData[\"Variation\"].value_counts()\n",
    "print(\"Number of Unique variations = \"+str(unique_variation.shape[0]))\n",
    "print(unique_variation.head(10))"
   ]
  },
  {
   "cell_type": "code",
   "execution_count": 52,
   "metadata": {},
   "outputs": [
    {
     "name": "stdout",
     "output_type": "stream",
     "text": [
      "Ans: There are 1918 different categories of variations in the train data, and they are distibuted as follows:\n"
     ]
    }
   ],
   "source": [
    "print(\"Ans: There are\", unique_variation.shape[0] ,\"different categories of variations in the train data, and they are distibuted as follows:\")"
   ]
  },
  {
   "cell_type": "code",
   "execution_count": 53,
   "metadata": {},
   "outputs": [
    {
     "data": {
      "image/png": "[encoded data removed]",
      "text/plain": [
       "<Figure size 720x432 with 1 Axes>"
      ]
     },
     "metadata": {
      "needs_background": "light"
     },
     "output_type": "display_data"
    }
   ],
   "source": [
    "s = sum(unique_variation.values)\n",
    "h = unique_variation.values/s\n",
    "plt.figure(figsize = (10, 6))\n",
    "plt.plot(h)\n",
    "plt.title(\"Histrogram of Variations\", fontsize = 20)\n",
    "plt.xlabel('Index of a Variation', fontsize = 20)\n",
    "plt.ylabel('Number of Occurances', fontsize = 20)\n",
    "plt.grid()\n",
    "plt.show()"
   ]
  },
  {
   "cell_type": "code",
   "execution_count": 54,
   "metadata": {},
   "outputs": [
    {
     "data": {
      "image/png": "[encoded data removed]",
      "text/plain": [
       "<Figure size 720x432 with 1 Axes>"
      ]
     },
     "metadata": {
      "needs_background": "light"
     },
     "output_type": "display_data"
    }
   ],
   "source": [
    "s = sum(unique_variation.values)\n",
    "h = unique_variation.values/s\n",
    "c = np.cumsum(h)\n",
    "plt.figure(figsize = (10, 6))\n",
    "plt.plot(c)\n",
    "plt.title(\"Cumulative plot of Variations\", fontsize = 20)\n",
    "plt.xlabel('Index of a Variation', fontsize = 20)\n",
    "plt.ylabel('Percentage of Occurrences', fontsize = 20)\n",
    "plt.grid()\n",
    "plt.show()"
   ]
  },
  {
   "cell_type": "markdown",
   "metadata": {},
   "source": [
    "<ol><li>One-hot Coding</li></ol>"
   ]
  },
  {
   "cell_type": "code",
   "execution_count": 51,
   "metadata": {},
   "outputs": [],
   "source": [
    "variationVectorizer = CountVectorizer()\n",
    "train_variation_feature_onehotCoding = variationVectorizer.fit_transform(TrainData['Variation'])\n",
    "test_variation_feature_onehotCoding = variationVectorizer.transform(TestData['Variation'])\n",
    "cv_variation_feature_onehotCoding = variationVectorizer.transform(CV_Data['Variation'])"
   ]
  },
  {
   "cell_type": "code",
   "execution_count": 52,
   "metadata": {},
   "outputs": [
    {
     "name": "stdout",
     "output_type": "stream",
     "text": [
      "Size of one-hot encoded features in train data = (2121, 1959)\n",
      "Size of one-hot encoded features in test data = (664, 1959)\n",
      "Size of one-hot encoded features in CV data = (531, 1959)\n"
     ]
    }
   ],
   "source": [
    "print(\"Size of one-hot encoded features in train data = \"+str(train_variation_feature_onehotCoding.shape))\n",
    "print(\"Size of one-hot encoded features in test data = \"+str(test_variation_feature_onehotCoding.shape))\n",
    "print(\"Size of one-hot encoded features in CV data = \"+str(cv_variation_feature_onehotCoding.shape))"
   ]
  },
  {
   "cell_type": "markdown",
   "metadata": {},
   "source": [
    "<h3>Using only the variations attribute to predict the gene class using logistic regression </h3>\n",
    "<p>There are many ways to estimate how good a feature is, in predicting y_i. One of the good methods is to build a proper ML model using just this feature. In this case, we will build a logistic regression model using only Variation feature (one hot encoded) to predict y_i.</p>"
   ]
  },
  {
   "cell_type": "code",
   "execution_count": 53,
   "metadata": {},
   "outputs": [
    {
     "name": "stdout",
     "output_type": "stream",
     "text": [
      "For alpha value of 1e-05 CV log loss = 1.7102143439698159\n",
      "For alpha value of 0.0001 CV log loss = 1.7019839358805344\n",
      "For alpha value of 0.001 CV log loss = 1.7042973554727956\n",
      "For alpha value of 0.01 CV log loss = 1.715387219792694\n",
      "For alpha value of 0.1 CV log loss = 1.7285419930798729\n",
      "For alpha value of 1 CV log loss = 1.729162409663339\n"
     ]
    },
    {
     "data": {
      "image/png": "[encoded data removed]",
      "text/plain": [
       "<Figure size 864x504 with 1 Axes>"
      ]
     },
     "metadata": {
      "needs_background": "light"
     },
     "output_type": "display_data"
    }
   ],
   "source": [
    "alpha = [10 ** x for x in range(-5, 1)]\n",
    "\n",
    "cv_log_loss = []\n",
    "for i in alpha:\n",
    "    clf = SGDClassifier(alpha=i, penalty='l2', loss='log', random_state=42)\n",
    "    clf.fit(train_variation_feature_onehotCoding, TrainDataLabels)\n",
    "    calib_clf = CalibratedClassifierCV(clf, method = \"sigmoid\")\n",
    "    calib_clf.fit(train_variation_feature_onehotCoding, TrainDataLabels)\n",
    "    predicted_y = calib_clf.predict_proba(cv_variation_feature_onehotCoding)\n",
    "    cv_log_loss.append(log_loss(CV_Data_Labels, predicted_y, labels=clf.classes_))\n",
    "    print(\"For alpha value of \"+str(i)+\" CV log loss = \"+str(log_loss(CV_Data_Labels, predicted_y, labels=clf.classes_)))\n",
    "\n",
    "plt.figure(figsize = (12, 7))\n",
    "plt.plot(alpha, cv_log_loss)\n",
    "for xy in zip(alpha, np.round(cv_log_loss, 4)):\n",
    "    plt.annotate(xy, xy)\n",
    "    \n",
    "plt.title(\"Alpha vs Log-loss\", fontsize = 20)\n",
    "plt.xlabel(\"Alpha\", fontsize = 20)\n",
    "plt.ylabel(\"Log-Loss\", fontsize = 20)\n",
    "plt.show()"
   ]
  },
  {
   "cell_type": "code",
   "execution_count": 54,
   "metadata": {},
   "outputs": [
    {
     "name": "stdout",
     "output_type": "stream",
     "text": [
      "For values of best alpha =  0.0001 the train log loss =: 0.7075321840303704\n",
      "For values of best alpha =  0.0001 the CV log loss =: 1.7019839358805344\n",
      "For values of best alpha =  0.0001 the test log loss =: 1.7082340143334225\n"
     ]
    }
   ],
   "source": [
    "best_alpha = alpha[np.argmin(cv_log_loss)]\n",
    "clf = SGDClassifier(alpha=best_alpha, penalty='l2', loss='log', random_state=42)\n",
    "clf.fit(train_variation_feature_onehotCoding, TrainDataLabels)\n",
    "calib_clf = CalibratedClassifierCV(clf, method = \"sigmoid\")\n",
    "calib_clf.fit(train_variation_feature_onehotCoding, TrainDataLabels)\n",
    "\n",
    "predict_train = calib_clf.predict_proba(train_variation_feature_onehotCoding)\n",
    "print('For values of best alpha = ', best_alpha, \"the train log loss =:\",log_loss(TrainDataLabels, predict_train, labels=clf.classes_))\n",
    "\n",
    "predict_cv = calib_clf.predict_proba(cv_variation_feature_onehotCoding)\n",
    "print('For values of best alpha = ', best_alpha, \"the CV log loss =:\",log_loss(CV_Data_Labels, predict_cv, labels=clf.classes_))\n",
    "\n",
    "predict_test = calib_clf.predict_proba(test_variation_feature_onehotCoding)\n",
    "print('For values of best alpha = ', best_alpha, \"the test log loss =:\",log_loss(TestLabels, predict_test, labels=clf.classes_))"
   ]
  },
  {
   "cell_type": "markdown",
   "metadata": {},
   "source": [
    "<h1>Univariate Analysis on Text Feature</h1>"
   ]
  },
  {
   "cell_type": "markdown",
   "metadata": {},
   "source": [
    "### How many unique words are present in train data?"
   ]
  },
  {
   "cell_type": "code",
   "execution_count": 60,
   "metadata": {},
   "outputs": [
    {
     "name": "stdout",
     "output_type": "stream",
     "text": [
      "Number of unique words in train data = 390670\n"
     ]
    }
   ],
   "source": [
    "dictt = defaultdict(int)\n",
    "for index, row in TrainData.iterrows():\n",
    "    for word in row['Text'].split():\n",
    "        dictt[word] += 1\n",
    "print(\"Number of unique words in train data = \"+str(len(dictt.keys())))"
   ]
  },
  {
   "cell_type": "markdown",
   "metadata": {},
   "source": [
    "<p>How to featurize text field?</p>\n",
    "\n",
    "    We are using TFIDF(term frequency–inverse document frequency)\n"
   ]
  },
  {
   "cell_type": "markdown",
   "metadata": {},
   "source": [
    "<p><b>TFIDF</b></p>"
   ]
  },
  {
   "cell_type": "code",
   "execution_count": 57,
   "metadata": {},
   "outputs": [],
   "source": [
    "tfidf_vectorizer = TfidfVectorizer(ngram_range = (1,2), stop_words = \"english\", min_df = 3, max_features = 100000)\n",
    "#TFIDVECTORIZER Convert a collection of raw documents to a matrix of TF-IDF features.\n",
    "#min_df ko vlaue vanda sano frequency ko text will be ignored\n",
    "\n",
    "train_text_feature_tfidf = tfidf_vectorizer.fit_transform(TrainData['Text'])\n",
    "train_text_feature_tfidf = StandardScaler(with_mean = False).fit_transform(train_text_feature_tfidf)\n",
    "#StandardScaler removes the mean and scales each feature/variable to unit variance. Basically it scales our input to make it\n",
    "#better for the algorithm\n",
    "\n",
    "test_text_feature_tfidf = tfidf_vectorizer.transform(TestData['Text'])\n",
    "test_text_feature_tfidf = StandardScaler(with_mean = False).fit_transform(test_text_feature_tfidf)\n",
    "\n",
    "cv_text_feature_tfidf = tfidf_vectorizer.transform(CV_Data['Text'])\n",
    "cv_text_feature_tfidf = StandardScaler(with_mean = False).fit_transform(cv_text_feature_tfidf)"
   ]
  },
  {
   "cell_type": "code",
   "execution_count": 61,
   "metadata": {},
   "outputs": [
    {
     "name": "stdout",
     "output_type": "stream",
     "text": [
      "Size of TFIDF coded text feature of Train Data = (2121, 100000)\n",
      "Size of TFIDF coded text feature of Test Data = (664, 100000)\n",
      "Size of TFIDF coded text feature of CV Data = (531, 100000)\n"
     ]
    }
   ],
   "source": [
    "print(\"Size of TFIDF coded text feature of Train Data = \"+str(train_text_feature_tfidf.shape))\n",
    "print(\"Size of TFIDF coded text feature of Test Data = \"+str(test_text_feature_tfidf.shape))\n",
    "print(\"Size of TFIDF coded text feature of CV Data = \"+str(cv_text_feature_tfidf.shape))"
   ]
  },
  {
   "cell_type": "code",
   "execution_count": null,
   "metadata": {},
   "outputs": [],
   "source": []
  },
  {
   "cell_type": "markdown",
   "metadata": {},
   "source": [
    "### How are word frequencies distributed?"
   ]
  },
  {
   "cell_type": "code",
   "execution_count": 63,
   "metadata": {},
   "outputs": [],
   "source": [
    "count_vec = CountVectorizer(min_df = 3)\n",
    "#Convert a collection of text documents to a matrix of token counts.\n",
    "#Basically text are converted into multidimentional array on the basis of their frequencies.\n",
    "TrainWordOccurrences = count_vec.fit_transform(TrainData['Text'])\n",
    "# getting all the feature names (words)\n",
    "TrainFeatures= count_vec.get_feature_names()\n",
    "\n",
    "#frequency min_df vanda thulo vayeko text will become attributes on the table.\n",
    "#this function returns those attributes\n",
    "\n",
    "# TrainWordOccurrences.sum(axis=0).A1 will sum every column and returns (1*number of features) vector\n",
    "wordOccurrenceDictionary = dict(zip(TrainFeatures,TrainWordOccurrences.sum(axis=0).A1))"
   ]
  },
  {
   "cell_type": "code",
   "execution_count": 64,
   "metadata": {},
   "outputs": [],
   "source": [
    "sortedWordOccurrenceDict = dict(sorted(wordOccurrenceDictionary.items(), key=lambda x: x[1] , reverse=True))"
   ]
  },
  {
   "cell_type": "code",
   "execution_count": 65,
   "metadata": {},
   "outputs": [],
   "source": [
    "sortedWordOccurrenceDictList = np.array(list(sortedWordOccurrenceDict.values()))"
   ]
  },
  {
   "cell_type": "code",
   "execution_count": 66,
   "metadata": {},
   "outputs": [],
   "source": [
    "NoOfWord_Occurrence = Counter(sortedWordOccurrenceDictList) \n",
    "#counter simply takes a list then it prints a dictionary. In that dictionary, keys are the number of elements and its values \n",
    "#are the number of times that element is occurring in that list."
   ]
  },
  {
   "cell_type": "code",
   "execution_count": 67,
   "metadata": {},
   "outputs": [
    {
     "name": "stdout",
     "output_type": "stream",
     "text": [
      "Counter({3: 5325, 4: 3439, 5: 2936, 6: 2623, 7: 2181, 9: 1971, 8: 1832, 10: 1453, 11: 1344, 12: 1155, 18: 1046, 16: 870, 14: 859, 15: 776, 13: 713, 20: 690, 22: 611, 24: 567, 19: 546, 21: 532, 17: 508, 46: 431, 23: 392, 25: 379, 30: 372, 28: 352, 27: 330, 32: 323, 26: 323, 33: 289, 36: 278, 29: 267, 44: 258, 31: 251, 34: 240, 35: 236, 40: 232, 45: 227, 47: 209, 38: 209, 37: 199, 48: 196, 42: 186, 49: 180, 41: 180, 39: 179, 54: 168, 43: 165, 50: 163, 56: 150, 55: 147, 66: 143, 52: 139, 60: 137, 57: 137, 53: 135, 58: 122, 67: 120, 51: 120, 62: 119, 64: 107, 71: 106, 65: 106, 63: 105, 88: 104, 72: 101, 70: 99, 61: 97, 59: 93, 92: 90, 77: 89, 68: 88, 74: 87, 73: 87, 75: 81, 84: 80, 79: 78, 69: 78, 80: 76, 78: 76, 76: 75, 81: 74, 95: 73, 91: 70, 108: 69, 96: 67, 94: 67, 83: 65, 101: 64, 89: 63, 87: 61, 82: 60, 93: 59, 85: 59, 100: 58, 90: 58, 102: 56, 98: 56, 97: 56, 121: 55, 120: 55, 104: 55, 110: 54, 130: 53, 132: 49, 114: 49, 86: 49, 113: 48, 116: 46, 107: 46, 138: 45, 115: 45, 126: 44, 117: 44, 112: 44, 106: 44, 99: 44, 165: 43, 103: 43, 109: 42, 105: 42, 118: 41, 135: 40, 119: 40, 111: 38, 160: 37, 157: 37, 125: 37, 122: 37, 131: 36, 127: 36, 139: 35, 133: 35, 128: 35, 140: 34, 134: 34, 129: 34, 155: 33, 144: 33, 136: 33, 123: 33, 170: 32, 153: 32, 146: 32, 194: 31, 152: 30, 148: 30, 142: 30, 137: 30, 186: 29, 173: 29, 167: 29, 151: 29, 145: 29, 180: 28, 172: 28, 143: 28, 124: 28, 222: 27, 196: 27, 177: 27, 162: 27, 161: 27, 154: 27, 192: 26, 169: 26, 163: 26, 147: 26, 229: 25, 150: 25, 234: 24, 207: 24, 189: 24, 178: 24, 175: 24, 156: 24, 149: 24, 240: 23, 201: 23, 199: 23, 185: 23, 176: 23, 171: 23, 166: 23, 141: 23, 227: 22, 210: 22, 183: 22, 168: 22, 158: 22, 233: 21, 202: 21, 195: 21, 190: 21, 159: 21, 249: 20, 238: 20, 205: 20, 197: 20, 181: 20, 267: 19, 247: 19, 228: 19, 220: 19, 209: 19, 191: 19, 164: 19, 320: 18, 261: 18, 259: 18, 242: 18, 235: 18, 230: 18, 218: 18, 214: 18, 203: 18, 198: 18, 179: 18, 353: 17, 285: 17, 232: 17, 225: 17, 219: 17, 204: 17, 188: 17, 184: 17, 182: 17, 174: 17, 363: 16, 298: 16, 276: 16, 264: 16, 254: 16, 250: 16, 236: 16, 215: 16, 213: 16, 358: 15, 313: 15, 274: 15, 273: 15, 263: 15, 256: 15, 211: 15, 208: 15, 350: 14, 297: 14, 292: 14, 281: 14, 266: 14, 258: 14, 245: 14, 239: 14, 231: 14, 217: 14, 216: 14, 311: 13, 305: 13, 303: 13, 286: 13, 283: 13, 277: 13, 243: 13, 224: 13, 223: 13, 187: 13, 395: 12, 372: 12, 333: 12, 329: 12, 318: 12, 310: 12, 304: 12, 294: 12, 279: 12, 260: 12, 252: 12, 237: 12, 226: 12, 221: 12, 497: 11, 434: 11, 418: 11, 368: 11, 354: 11, 348: 11, 343: 11, 336: 11, 332: 11, 325: 11, 322: 11, 317: 11, 314: 11, 309: 11, 308: 11, 301: 11, 296: 11, 290: 11, 288: 11, 282: 11, 272: 11, 255: 11, 251: 11, 244: 11, 241: 11, 212: 11, 206: 11, 200: 11, 631: 10, 545: 10, 447: 10, 425: 10, 414: 10, 392: 10, 380: 10, 357: 10, 355: 10, 352: 10, 337: 10, 312: 10, 306: 10, 293: 10, 291: 10, 287: 10, 275: 10, 271: 10, 265: 10, 262: 10, 193: 10, 498: 9, 483: 9, 480: 9, 462: 9, 460: 9, 459: 9, 451: 9, 445: 9, 443: 9, 437: 9, 432: 9, 431: 9, 419: 9, 405: 9, 403: 9, 401: 9, 399: 9, 390: 9, 386: 9, 375: 9, 356: 9, 335: 9, 330: 9, 327: 9, 324: 9, 302: 9, 289: 9, 280: 9, 278: 9, 270: 9, 248: 9, 246: 9, 639: 8, 525: 8, 511: 8, 473: 8, 463: 8, 440: 8, 402: 8, 400: 8, 391: 8, 385: 8, 382: 8, 370: 8, 362: 8, 345: 8, 342: 8, 341: 8, 334: 8, 331: 8, 328: 8, 326: 8, 321: 8, 307: 8, 295: 8, 269: 8, 735: 7, 695: 7, 684: 7, 670: 7, 663: 7, 635: 7, 632: 7, 630: 7, 613: 7, 610: 7, 558: 7, 555: 7, 547: 7, 532: 7, 529: 7, 528: 7, 524: 7, 516: 7, 500: 7, 489: 7, 485: 7, 482: 7, 472: 7, 471: 7, 470: 7, 468: 7, 465: 7, 446: 7, 436: 7, 417: 7, 409: 7, 398: 7, 397: 7, 383: 7, 379: 7, 377: 7, 376: 7, 373: 7, 371: 7, 364: 7, 340: 7, 299: 7, 257: 7, 253: 7, 2137: 6, 950: 6, 924: 6, 914: 6, 816: 6, 785: 6, 757: 6, 718: 6, 708: 6, 685: 6, 674: 6, 638: 6, 623: 6, 612: 6, 607: 6, 595: 6, 592: 6, 586: 6, 572: 6, 568: 6, 565: 6, 560: 6, 554: 6, 544: 6, 536: 6, 534: 6, 531: 6, 513: 6, 506: 6, 505: 6, 501: 6, 492: 6, 478: 6, 475: 6, 453: 6, 429: 6, 428: 6, 423: 6, 407: 6, 396: 6, 388: 6, 381: 6, 378: 6, 374: 6, 367: 6, 361: 6, 347: 6, 339: 6, 338: 6, 319: 6, 300: 6, 284: 6, 1290: 5, 1003: 5, 974: 5, 966: 5, 872: 5, 866: 5, 852: 5, 847: 5, 834: 5, 822: 5, 808: 5, 773: 5, 768: 5, 748: 5, 726: 5, 714: 5, 713: 5, 692: 5, 689: 5, 664: 5, 662: 5, 656: 5, 646: 5, 611: 5, 609: 5, 598: 5, 581: 5, 577: 5, 562: 5, 557: 5, 552: 5, 542: 5, 540: 5, 526: 5, 518: 5, 517: 5, 515: 5, 509: 5, 508: 5, 504: 5, 496: 5, 490: 5, 481: 5, 479: 5, 461: 5, 454: 5, 441: 5, 433: 5, 430: 5, 416: 5, 415: 5, 410: 5, 404: 5, 394: 5, 389: 5, 387: 5, 365: 5, 359: 5, 323: 5, 316: 5, 3864: 4, 2145: 4, 1950: 4, 1767: 4, 1753: 4, 1596: 4, 1432: 4, 1365: 4, 1325: 4, 1321: 4, 1314: 4, 1223: 4, 1214: 4, 1208: 4, 1182: 4, 1165: 4, 1148: 4, 1142: 4, 1136: 4, 1116: 4, 1098: 4, 1089: 4, 1025: 4, 977: 4, 862: 4, 856: 4, 836: 4, 823: 4, 806: 4, 795: 4, 791: 4, 788: 4, 787: 4, 781: 4, 779: 4, 758: 4, 752: 4, 750: 4, 744: 4, 743: 4, 741: 4, 728: 4, 721: 4, 711: 4, 690: 4, 671: 4, 657: 4, 654: 4, 651: 4, 643: 4, 633: 4, 629: 4, 628: 4, 626: 4, 624: 4, 622: 4, 614: 4, 605: 4, 604: 4, 601: 4, 597: 4, 593: 4, 591: 4, 588: 4, 584: 4, 580: 4, 579: 4, 576: 4, 573: 4, 571: 4, 566: 4, 564: 4, 556: 4, 543: 4, 539: 4, 537: 4, 527: 4, 523: 4, 499: 4, 493: 4, 464: 4, 458: 4, 456: 4, 455: 4, 452: 4, 450: 4, 444: 4, 442: 4, 439: 4, 438: 4, 435: 4, 426: 4, 413: 4, 406: 4, 369: 4, 344: 4, 3523: 3, 3475: 3, 2834: 3, 2524: 3, 2410: 3, 2377: 3, 2218: 3, 2154: 3, 2052: 3, 2038: 3, 1932: 3, 1910: 3, 1860: 3, 1842: 3, 1832: 3, 1800: 3, 1787: 3, 1760: 3, 1741: 3, 1736: 3, 1705: 3, 1658: 3, 1644: 3, 1632: 3, 1621: 3, 1571: 3, 1521: 3, 1516: 3, 1512: 3, 1503: 3, 1500: 3, 1443: 3, 1440: 3, 1422: 3, 1415: 3, 1390: 3, 1389: 3, 1372: 3, 1370: 3, 1350: 3, 1318: 3, 1304: 3, 1298: 3, 1286: 3, 1271: 3, 1266: 3, 1261: 3, 1257: 3, 1243: 3, 1205: 3, 1200: 3, 1199: 3, 1194: 3, 1189: 3, 1180: 3, 1176: 3, 1169: 3, 1162: 3, 1143: 3, 1135: 3, 1129: 3, 1125: 3, 1122: 3, 1117: 3, 1112: 3, 1105: 3, 1094: 3, 1082: 3, 1074: 3, 1073: 3, 1063: 3, 1060: 3, 1054: 3, 1051: 3, 1043: 3, 1039: 3, 1032: 3, 1031: 3, 1020: 3, 1017: 3, 1005: 3, 988: 3, 985: 3, 978: 3, 975: 3, 967: 3, 959: 3, 947: 3, 939: 3, 936: 3, 935: 3, 933: 3, 932: 3, 921: 3, 912: 3, 910: 3, 905: 3, 896: 3, 894: 3, 893: 3, 888: 3, 887: 3, 885: 3, 884: 3, 881: 3, 878: 3, 873: 3, 871: 3, 869: 3, 868: 3, 863: 3, 861: 3, 859: 3, 851: 3, 849: 3, 844: 3, 841: 3, 837: 3, 833: 3, 831: 3, 826: 3, 819: 3, 818: 3, 810: 3, 797: 3, 784: 3, 780: 3, 775: 3, 774: 3, 771: 3, 770: 3, 766: 3, 765: 3, 756: 3, 753: 3, 749: 3, 742: 3, 740: 3, 739: 3, 733: 3, 730: 3, 729: 3, 719: 3, 715: 3, 710: 3, 707: 3, 704: 3, 697: 3, 694: 3, 691: 3, 687: 3, 683: 3, 680: 3, 672: 3, 669: 3, 661: 3, 659: 3, 655: 3, 647: 3, 645: 3, 644: 3, 641: 3, 627: 3, 621: 3, 619: 3, 606: 3, 596: 3, 585: 3, 578: 3, 575: 3, 570: 3, 563: 3, 561: 3, 559: 3, 553: 3, 550: 3, 538: 3, 535: 3, 533: 3, 519: 3, 510: 3, 507: 3, 503: 3, 502: 3, 494: 3, 487: 3, 486: 3, 474: 3, 469: 3, 467: 3, 466: 3, 457: 3, 422: 3, 420: 3, 412: 3, 411: 3, 393: 3, 366: 3, 351: 3, 346: 3, 315: 3, 268: 3, 14366: 2, 11812: 2, 10892: 2, 10061: 2, 9152: 2, 8519: 2, 7938: 2, 7084: 2, 6688: 2, 6589: 2, 6564: 2, 6229: 2, 5909: 2, 5606: 2, 5578: 2, 5342: 2, 5164: 2, 5143: 2, 4920: 2, 4889: 2, 4701: 2, 4460: 2, 4443: 2, 4125: 2, 4088: 2, 4016: 2, 3897: 2, 3857: 2, 3756: 2, 3700: 2, 3652: 2, 3585: 2, 3472: 2, 3437: 2, 3424: 2, 3423: 2, 3375: 2, 3324: 2, 3300: 2, 3206: 2, 3185: 2, 3172: 2, 3171: 2, 3151: 2, 3132: 2, 3126: 2, 3095: 2, 3090: 2, 3089: 2, 3010: 2, 2962: 2, 2917: 2, 2885: 2, 2876: 2, 2865: 2, 2781: 2, 2689: 2, 2680: 2, 2672: 2, 2663: 2, 2624: 2, 2619: 2, 2610: 2, 2590: 2, 2569: 2, 2562: 2, 2559: 2, 2527: 2, 2417: 2, 2399: 2, 2388: 2, 2357: 2, 2325: 2, 2317: 2, 2267: 2, 2246: 2, 2231: 2, 2230: 2, 2219: 2, 2208: 2, 2192: 2, 2163: 2, 2158: 2, 2146: 2, 2143: 2, 2141: 2, 2138: 2, 2075: 2, 2064: 2, 2042: 2, 2031: 2, 2029: 2, 2027: 2, 2023: 2, 2008: 2, 2004: 2, 1998: 2, 1957: 2, 1934: 2, 1919: 2, 1913: 2, 1899: 2, 1897: 2, 1876: 2, 1868: 2, 1866: 2, 1851: 2, 1837: 2, 1835: 2, 1819: 2, 1815: 2, 1806: 2, 1794: 2, 1785: 2, 1784: 2, 1780: 2, 1777: 2, 1771: 2, 1770: 2, 1763: 2, 1750: 2, 1747: 2, 1745: 2, 1731: 2, 1722: 2, 1710: 2, 1704: 2, 1696: 2, 1695: 2, 1694: 2, 1692: 2, 1674: 2, 1663: 2, 1655: 2, 1630: 2, 1617: 2, 1611: 2, 1605: 2, 1601: 2, 1593: 2, 1590: 2, 1582: 2, 1577: 2, 1574: 2, 1573: 2, 1572: 2, 1570: 2, 1565: 2, 1563: 2, 1562: 2, 1561: 2, 1558: 2, 1553: 2, 1536: 2, 1531: 2, 1522: 2, 1520: 2, 1509: 2, 1498: 2, 1483: 2, 1476: 2, 1473: 2, 1470: 2, 1469: 2, 1463: 2, 1462: 2, 1456: 2, 1447: 2, 1441: 2, 1439: 2, 1437: 2, 1429: 2, 1428: 2, 1425: 2, 1421: 2, 1413: 2, 1407: 2, 1406: 2, 1402: 2, 1396: 2, 1377: 2, 1375: 2, 1369: 2, 1358: 2, 1356: 2, 1355: 2, 1354: 2, 1347: 2, 1344: 2, 1343: 2, 1335: 2, 1329: 2, 1327: 2, 1322: 2, 1316: 2, 1313: 2, 1311: 2, 1306: 2, 1302: 2, 1285: 2, 1283: 2, 1280: 2, 1279: 2, 1277: 2, 1267: 2, 1265: 2, 1264: 2, 1259: 2, 1258: 2, 1256: 2, 1255: 2, 1254: 2, 1252: 2, 1251: 2, 1249: 2, 1247: 2, 1235: 2, 1233: 2, 1230: 2, 1228: 2, 1226: 2, 1224: 2, 1219: 2, 1212: 2, 1211: 2, 1202: 2, 1201: 2, 1195: 2, 1193: 2, 1188: 2, 1183: 2, 1173: 2, 1172: 2, 1170: 2, 1168: 2, 1166: 2, 1161: 2, 1146: 2, 1144: 2, 1138: 2, 1132: 2, 1124: 2, 1118: 2, 1114: 2, 1110: 2, 1109: 2, 1107: 2, 1104: 2, 1099: 2, 1096: 2, 1093: 2, 1092: 2, 1091: 2, 1088: 2, 1083: 2, 1069: 2, 1066: 2, 1059: 2, 1058: 2, 1057: 2, 1055: 2, 1052: 2, 1049: 2, 1042: 2, 1038: 2, 1036: 2, 1034: 2, 1030: 2, 1029: 2, 1028: 2, 1027: 2, 1023: 2, 1018: 2, 1014: 2, 1013: 2, 1011: 2, 1008: 2, 1004: 2, 1000: 2, 999: 2, 994: 2, 986: 2, 981: 2, 979: 2, 972: 2, 969: 2, 964: 2, 962: 2, 960: 2, 958: 2, 955: 2, 948: 2, 943: 2, 931: 2, 930: 2, 928: 2, 927: 2, 926: 2, 925: 2, 918: 2, 916: 2, 907: 2, 906: 2, 904: 2, 901: 2, 895: 2, 889: 2, 886: 2, 879: 2, 876: 2, 875: 2, 870: 2, 860: 2, 858: 2, 854: 2, 850: 2, 848: 2, 845: 2, 842: 2, 838: 2, 835: 2, 832: 2, 827: 2, 825: 2, 824: 2, 820: 2, 815: 2, 814: 2, 812: 2, 809: 2, 803: 2, 802: 2, 801: 2, 799: 2, 798: 2, 794: 2, 793: 2, 792: 2, 789: 2, 786: 2, 776: 2, 772: 2, 764: 2, 762: 2, 760: 2, 755: 2, 746: 2, 745: 2, 737: 2, 732: 2, 727: 2, 725: 2, 724: 2, 722: 2, 720: 2, 717: 2, 716: 2, 709: 2, 706: 2, 700: 2, 699: 2, 698: 2, 693: 2, 688: 2, 686: 2, 678: 2, 677: 2, 676: 2, 673: 2, 666: 2, 660: 2, 653: 2, 650: 2, 649: 2, 648: 2, 642: 2, 640: 2, 637: 2, 634: 2, 625: 2, 620: 2, 618: 2, 600: 2, 599: 2, 594: 2, 589: 2, 583: 2, 582: 2, 574: 2, 551: 2, 549: 2, 546: 2, 541: 2, 520: 2, 514: 2, 495: 2, 491: 2, 488: 2, 484: 2, 477: 2, 476: 2, 449: 2, 448: 2, 427: 2, 424: 2, 408: 2, 360: 2, 349: 2, 966096: 1, 794233: 1, 598349: 1, 585354: 1, 363335: 1, 248439: 1, 185643: 1, 176612: 1, 165324: 1, 149816: 1, 137296: 1, 136020: 1, 133694: 1, 124772: 1, 117578: 1, 106304: 1, 94247: 1, 89819: 1, 84614: 1, 82417: 1, 80861: 1, 75418: 1, 74007: 1, 72744: 1, 68920: 1, 68746: 1, 67522: 1, 66256: 1, 65951: 1, 62781: 1, 62375: 1, 62056: 1, 58280: 1, 53221: 1, 52050: 1, 51665: 1, 49924: 1, 49197: 1, 49142: 1, 47374: 1, 45770: 1, 43533: 1, 42294: 1, 41976: 1, 41901: 1, 41776: 1, 41753: 1, 40821: 1, 40215: 1, 40109: 1, 38962: 1, 37920: 1, 37068: 1, 36204: 1, 36008: 1, 35370: 1, 34856: 1, 33837: 1, 33477: 1, 33336: 1, 33175: 1, 33096: 1, 31957: 1, 31288: 1, 30970: 1, 30861: 1, 29966: 1, 29813: 1, 29669: 1, 29343: 1, 29322: 1, 28135: 1, 27289: 1, 26860: 1, 26475: 1, 25751: 1, 25717: 1, 25371: 1, 25243: 1, 25240: 1, 24857: 1, 24651: 1, 24319: 1, 24179: 1, 23656: 1, 23610: 1, 23579: 1, 23382: 1, 22974: 1, 22785: 1, 22760: 1, 22755: 1, 22185: 1, 21994: 1, 21914: 1, 21870: 1, 21798: 1, 21597: 1, 21292: 1, 21050: 1, 21017: 1, 20832: 1, 20353: 1, 20253: 1, 20232: 1, 20213: 1, 20164: 1, 19798: 1, 19727: 1, 19501: 1, 19448: 1, 19307: 1, 19166: 1, 19161: 1, 19020: 1, 18993: 1, 18791: 1, 18749: 1, 18688: 1, 18652: 1, 18579: 1, 18456: 1, 18444: 1, 18438: 1, 18007: 1, 17920: 1, 17807: 1, 17771: 1, 17639: 1, 17608: 1, 17601: 1, 17578: 1, 17383: 1, 17301: 1, 17181: 1, 17175: 1, 17083: 1, 17041: 1, 16854: 1, 16829: 1, 16764: 1, 16760: 1, 16688: 1, 16614: 1, 16495: 1, 16259: 1, 15703: 1, 15594: 1, 15575: 1, 15564: 1, 15556: 1, 15550: 1, 15531: 1, 15469: 1, 15444: 1, 15255: 1, 15246: 1, 15188: 1, 14854: 1, 14761: 1, 14662: 1, 14564: 1, 14443: 1, 14231: 1, 14127: 1, 14042: 1, 13992: 1, 13885: 1, 13533: 1, 13520: 1, 13496: 1, 13372: 1, 13362: 1, 13309: 1, 13306: 1, 13260: 1, 13237: 1, 13209: 1, 13119: 1, 13089: 1, 13041: 1, 12965: 1, 12920: 1, 12877: 1, 12752: 1, 12748: 1, 12630: 1, 12606: 1, 12602: 1, 12600: 1, 12560: 1, 12532: 1, 12531: 1, 12471: 1, 12432: 1, 12408: 1, 12357: 1, 12342: 1, 12268: 1, 12217: 1, 12205: 1, 12190: 1, 12170: 1, 12092: 1, 12091: 1, 12072: 1, 12068: 1, 12040: 1, 12002: 1, 11961: 1, 11938: 1, 11927: 1, 11921: 1, 11840: 1, 11822: 1, 11817: 1, 11729: 1, 11695: 1, 11690: 1, 11663: 1, 11622: 1, 11611: 1, 11504: 1, 11440: 1, 11352: 1, 11294: 1, 11282: 1, 11249: 1, 11231: 1, 11168: 1, 11143: 1, 11108: 1, 10910: 1, 10904: 1, 10885: 1, 10859: 1, 10794: 1, 10786: 1, 10757: 1, 10648: 1, 10592: 1, 10581: 1, 10552: 1, 10550: 1, 10339: 1, 10236: 1, 10234: 1, 10137: 1, 10130: 1, 10075: 1, 10068: 1, 9996: 1, 9993: 1, 9973: 1, 9950: 1, 9915: 1, 9885: 1, 9772: 1, 9766: 1, 9751: 1, 9748: 1, 9740: 1, 9719: 1, 9672: 1, 9646: 1, 9396: 1, 9372: 1, 9323: 1, 9322: 1, 9307: 1, 9306: 1, 9297: 1, 9267: 1, 9243: 1, 9240: 1, 9191: 1, 9187: 1, 9186: 1, 9147: 1, 9145: 1, 9130: 1, 9021: 1, 8976: 1, 8909: 1, 8889: 1, 8888: 1, 8865: 1, 8854: 1, 8836: 1, 8783: 1, 8774: 1, 8694: 1, 8665: 1, 8605: 1, 8600: 1, 8585: 1, 8556: 1, 8528: 1, 8503: 1, 8460: 1, 8430: 1, 8345: 1, 8342: 1, 8321: 1, 8292: 1, 8290: 1, 8276: 1, 8269: 1, 8267: 1, 8264: 1, 8227: 1, 8153: 1, 8111: 1, 8103: 1, 8091: 1, 8077: 1, 8066: 1, 8058: 1, 8042: 1, 8039: 1, 7977: 1, 7976: 1, 7950: 1, 7906: 1, 7889: 1, 7881: 1, 7851: 1, 7842: 1, 7826: 1, 7785: 1, 7779: 1, 7778: 1, 7756: 1, 7754: 1, 7747: 1, 7733: 1, 7728: 1, 7724: 1, 7686: 1, 7679: 1, 7633: 1, 7587: 1, 7582: 1, 7580: 1, 7499: 1, 7481: 1, 7453: 1, 7447: 1, 7444: 1, 7430: 1, 7403: 1, 7401: 1, 7382: 1, 7360: 1, 7353: 1, 7344: 1, 7306: 1, 7289: 1, 7285: 1, 7272: 1, 7263: 1, 7257: 1, 7167: 1, 7144: 1, 7120: 1, 7104: 1, 7100: 1, 7061: 1, 7043: 1, 7038: 1, 7026: 1, 7011: 1, 6985: 1, 6983: 1, 6977: 1, 6970: 1, 6962: 1, 6954: 1, 6947: 1, 6926: 1, 6923: 1, 6902: 1, 6900: 1, 6896: 1, 6893: 1, 6870: 1, 6846: 1, 6840: 1, 6839: 1, 6835: 1, 6832: 1, 6806: 1, 6801: 1, 6797: 1, 6784: 1, 6727: 1, 6714: 1, 6675: 1, 6663: 1, 6639: 1, 6634: 1, 6628: 1, 6614: 1, 6613: 1, 6508: 1, 6476: 1, 6469: 1, 6439: 1, 6434: 1, 6423: 1, 6421: 1, 6414: 1, 6385: 1, 6374: 1, 6372: 1, 6347: 1, 6323: 1, 6252: 1, 6244: 1, 6230: 1, 6218: 1, 6212: 1, 6196: 1, 6185: 1, 6171: 1, 6160: 1, 6138: 1, 6124: 1, 6122: 1, 6119: 1, 6115: 1, 6114: 1, 6110: 1, 6101: 1, 6060: 1, 6048: 1, 6044: 1, 6009: 1, 6008: 1, 6002: 1, 5986: 1, 5983: 1, 5969: 1, 5963: 1, 5945: 1, 5940: 1, 5929: 1, 5905: 1, 5901: 1, 5871: 1, 5846: 1, 5842: 1, 5837: 1, 5827: 1, 5814: 1, 5802: 1, 5792: 1, 5786: 1, 5761: 1, 5739: 1, 5737: 1, 5729: 1, 5727: 1, 5725: 1, 5717: 1, 5712: 1, 5704: 1, 5697: 1, 5673: 1, 5669: 1, 5668: 1, 5610: 1, 5561: 1, 5556: 1, 5542: 1, 5534: 1, 5523: 1, 5502: 1, 5499: 1, 5492: 1, 5474: 1, 5465: 1, 5464: 1, 5455: 1, 5446: 1, 5419: 1, 5410: 1, 5403: 1, 5399: 1, 5382: 1, 5372: 1, 5370: 1, 5344: 1, 5343: 1, 5341: 1, 5339: 1, 5330: 1, 5319: 1, 5318: 1, 5277: 1, 5257: 1, 5245: 1, 5230: 1, 5220: 1, 5191: 1, 5190: 1, 5170: 1, 5147: 1, 5142: 1, 5141: 1, 5137: 1, 5132: 1, 5113: 1, 5111: 1, 5091: 1, 5075: 1, 5024: 1, 5010: 1, 5006: 1, 4981: 1, 4976: 1, 4971: 1, 4969: 1, 4949: 1, 4945: 1, 4939: 1, 4938: 1, 4932: 1, 4928: 1, 4927: 1, 4906: 1, 4883: 1, 4882: 1, 4880: 1, 4876: 1, 4859: 1, 4847: 1, 4841: 1, 4839: 1, 4833: 1, 4831: 1, 4829: 1, 4820: 1, 4810: 1, 4799: 1, 4797: 1, 4791: 1, 4788: 1, 4782: 1, 4781: 1, 4771: 1, 4769: 1, 4760: 1, 4749: 1, 4726: 1, 4717: 1, 4703: 1, 4700: 1, 4699: 1, 4696: 1, 4659: 1, 4651: 1, 4648: 1, 4626: 1, 4622: 1, 4620: 1, 4604: 1, 4587: 1, 4576: 1, 4574: 1, 4562: 1, 4555: 1, 4550: 1, 4545: 1, 4531: 1, 4528: 1, 4516: 1, 4503: 1, 4501: 1, 4496: 1, 4489: 1, 4487: 1, 4486: 1, 4482: 1, 4474: 1, 4466: 1, 4456: 1, 4451: 1, 4449: 1, 4442: 1, 4435: 1, 4426: 1, 4422: 1, 4399: 1, 4398: 1, 4390: 1, 4387: 1, 4380: 1, 4376: 1, 4375: 1, 4365: 1, 4360: 1, 4356: 1, 4354: 1, 4345: 1, 4342: 1, 4331: 1, 4318: 1, 4312: 1, 4310: 1, 4306: 1, 4305: 1, 4297: 1, 4291: 1, 4290: 1, 4283: 1, 4281: 1, 4274: 1, 4269: 1, 4260: 1, 4254: 1, 4247: 1, 4236: 1, 4229: 1, 4217: 1, 4209: 1, 4204: 1, 4192: 1, 4185: 1, 4182: 1, 4180: 1, 4174: 1, 4173: 1, 4171: 1, 4165: 1, 4161: 1, 4160: 1, 4157: 1, 4152: 1, 4141: 1, 4137: 1, 4136: 1, 4124: 1, 4116: 1, 4114: 1, 4105: 1, 4101: 1, 4093: 1, 4092: 1, 4091: 1, 4076: 1, 4065: 1, 4062: 1, 4046: 1, 4041: 1, 4039: 1, 4035: 1, 4034: 1, 4031: 1, 4011: 1, 4007: 1, 3994: 1, 3990: 1, 3982: 1, 3979: 1, 3977: 1, 3975: 1, 3962: 1, 3955: 1, 3949: 1, 3936: 1, 3934: 1, 3931: 1, 3925: 1, 3924: 1, 3894: 1, 3893: 1, 3889: 1, 3888: 1, 3882: 1, 3876: 1, 3860: 1, 3856: 1, 3855: 1, 3836: 1, 3821: 1, 3805: 1, 3803: 1, 3802: 1, 3788: 1, 3785: 1, 3783: 1, 3781: 1, 3773: 1, 3771: 1, 3769: 1, 3767: 1, 3765: 1, 3764: 1, 3759: 1, 3752: 1, 3745: 1, 3735: 1, 3730: 1, 3717: 1, 3713: 1, 3712: 1, 3703: 1, 3689: 1, 3683: 1, 3673: 1, 3672: 1, 3665: 1, 3661: 1, 3655: 1, 3649: 1, 3639: 1, 3635: 1, 3632: 1, 3630: 1, 3628: 1, 3617: 1, 3616: 1, 3608: 1, 3605: 1, 3588: 1, 3579: 1, 3578: 1, 3571: 1, 3568: 1, 3555: 1, 3548: 1, 3545: 1, 3542: 1, 3533: 1, 3527: 1, 3522: 1, 3521: 1, 3515: 1, 3513: 1, 3499: 1, 3498: 1, 3493: 1, 3492: 1, 3490: 1, 3473: 1, 3471: 1, 3469: 1, 3466: 1, 3465: 1, 3463: 1, 3454: 1, 3453: 1, 3450: 1, 3447: 1, 3443: 1, 3441: 1, 3439: 1, 3432: 1, 3427: 1, 3425: 1, 3411: 1, 3409: 1, 3406: 1, 3397: 1, 3390: 1, 3389: 1, 3384: 1, 3381: 1, 3376: 1, 3374: 1, 3372: 1, 3371: 1, 3368: 1, 3367: 1, 3359: 1, 3352: 1, 3351: 1, 3348: 1, 3347: 1, 3343: 1, 3340: 1, 3336: 1, 3334: 1, 3333: 1, 3330: 1, 3323: 1, 3318: 1, 3316: 1, 3313: 1, 3304: 1, 3294: 1, 3290: 1, 3289: 1, 3288: 1, 3287: 1, 3282: 1, 3277: 1, 3276: 1, 3275: 1, 3270: 1, 3268: 1, 3266: 1, 3256: 1, 3255: 1, 3238: 1, 3231: 1, 3223: 1, 3222: 1, 3219: 1, 3216: 1, 3208: 1, 3205: 1, 3199: 1, 3194: 1, 3175: 1, 3168: 1, 3166: 1, 3162: 1, 3148: 1, 3139: 1, 3135: 1, 3129: 1, 3125: 1, 3119: 1, 3115: 1, 3107: 1, 3106: 1, 3105: 1, 3104: 1, 3101: 1, 3100: 1, 3094: 1, 3093: 1, 3092: 1, 3087: 1, 3081: 1, 3072: 1, 3071: 1, 3063: 1, 3061: 1, 3059: 1, 3058: 1, 3054: 1, 3048: 1, 3046: 1, 3044: 1, 3040: 1, 3039: 1, 3032: 1, 3025: 1, 3018: 1, 3017: 1, 3014: 1, 3013: 1, 3011: 1, 2999: 1, 2994: 1, 2990: 1, 2988: 1, 2982: 1, 2981: 1, 2977: 1, 2974: 1, 2971: 1, 2961: 1, 2960: 1, 2957: 1, 2953: 1, 2947: 1, 2939: 1, 2937: 1, 2934: 1, 2931: 1, 2918: 1, 2915: 1, 2914: 1, 2909: 1, 2900: 1, 2896: 1, 2895: 1, 2892: 1, 2888: 1, 2886: 1, 2875: 1, 2871: 1, 2860: 1, 2853: 1, 2849: 1, 2828: 1, 2813: 1, 2807: 1, 2800: 1, 2796: 1, 2791: 1, 2790: 1, 2775: 1, 2761: 1, 2758: 1, 2747: 1, 2737: 1, 2728: 1, 2726: 1, 2725: 1, 2720: 1, 2716: 1, 2710: 1, 2704: 1, 2700: 1, 2690: 1, 2686: 1, 2683: 1, 2682: 1, 2679: 1, 2677: 1, 2676: 1, 2673: 1, 2671: 1, 2670: 1, 2665: 1, 2661: 1, 2660: 1, 2656: 1, 2655: 1, 2653: 1, 2639: 1, 2638: 1, 2632: 1, 2631: 1, 2626: 1, 2625: 1, 2617: 1, 2616: 1, 2605: 1, 2601: 1, 2598: 1, 2597: 1, 2596: 1, 2589: 1, 2583: 1, 2582: 1, 2580: 1, 2578: 1, 2573: 1, 2572: 1, 2571: 1, 2564: 1, 2563: 1, 2555: 1, 2552: 1, 2549: 1, 2547: 1, 2544: 1, 2543: 1, 2542: 1, 2541: 1, 2540: 1, 2535: 1, 2533: 1, 2530: 1, 2529: 1, 2520: 1, 2519: 1, 2518: 1, 2515: 1, 2513: 1, 2509: 1, 2507: 1, 2505: 1, 2503: 1, 2498: 1, 2496: 1, 2494: 1, 2489: 1, 2482: 1, 2476: 1, 2475: 1, 2474: 1, 2470: 1, 2461: 1, 2459: 1, 2457: 1, 2455: 1, 2454: 1, 2452: 1, 2451: 1, 2449: 1, 2446: 1, 2443: 1, 2438: 1, 2432: 1, 2427: 1, 2424: 1, 2423: 1, 2420: 1, 2414: 1, 2413: 1, 2409: 1, 2408: 1, 2407: 1, 2406: 1, 2396: 1, 2389: 1, 2384: 1, 2383: 1, 2382: 1, 2379: 1, 2378: 1, 2374: 1, 2364: 1, 2361: 1, 2356: 1, 2355: 1, 2354: 1, 2350: 1, 2347: 1, 2346: 1, 2343: 1, 2336: 1, 2333: 1, 2328: 1, 2327: 1, 2323: 1, 2322: 1, 2315: 1, 2314: 1, 2313: 1, 2310: 1, 2307: 1, 2304: 1, 2301: 1, 2300: 1, 2299: 1, 2296: 1, 2291: 1, 2290: 1, 2283: 1, 2280: 1, 2275: 1, 2274: 1, 2272: 1, 2271: 1, 2265: 1, 2263: 1, 2262: 1, 2261: 1, 2258: 1, 2257: 1, 2255: 1, 2250: 1, 2248: 1, 2247: 1, 2243: 1, 2242: 1, 2241: 1, 2239: 1, 2227: 1, 2226: 1, 2223: 1, 2221: 1, 2220: 1, 2214: 1, 2210: 1, 2203: 1, 2198: 1, 2197: 1, 2191: 1, 2190: 1, 2189: 1, 2186: 1, 2183: 1, 2182: 1, 2178: 1, 2177: 1, 2171: 1, 2169: 1, 2165: 1, 2164: 1, 2161: 1, 2155: 1, 2151: 1, 2150: 1, 2149: 1, 2139: 1, 2125: 1, 2124: 1, 2117: 1, 2111: 1, 2110: 1, 2109: 1, 2105: 1, 2102: 1, 2101: 1, 2096: 1, 2094: 1, 2092: 1, 2091: 1, 2082: 1, 2081: 1, 2079: 1, 2077: 1, 2076: 1, 2071: 1, 2070: 1, 2069: 1, 2068: 1, 2066: 1, 2057: 1, 2053: 1, 2051: 1, 2049: 1, 2045: 1, 2041: 1, 2037: 1, 2035: 1, 2034: 1, 2032: 1, 2028: 1, 2024: 1, 2017: 1, 2015: 1, 2013: 1, 2003: 1, 2001: 1, 1995: 1, 1991: 1, 1984: 1, 1983: 1, 1981: 1, 1979: 1, 1977: 1, 1976: 1, 1969: 1, 1965: 1, 1964: 1, 1963: 1, 1962: 1, 1961: 1, 1959: 1, 1958: 1, 1955: 1, 1953: 1, 1942: 1, 1941: 1, 1939: 1, 1938: 1, 1936: 1, 1933: 1, 1928: 1, 1927: 1, 1926: 1, 1924: 1, 1922: 1, 1921: 1, 1914: 1, 1912: 1, 1907: 1, 1905: 1, 1902: 1, 1900: 1, 1898: 1, 1896: 1, 1892: 1, 1889: 1, 1887: 1, 1886: 1, 1883: 1, 1881: 1, 1880: 1, 1879: 1, 1878: 1, 1875: 1, 1872: 1, 1871: 1, 1870: 1, 1869: 1, 1865: 1, 1861: 1, 1856: 1, 1854: 1, 1849: 1, 1847: 1, 1845: 1, 1843: 1, 1840: 1, 1839: 1, 1833: 1, 1827: 1, 1820: 1, 1818: 1, 1816: 1, 1814: 1, 1813: 1, 1811: 1, 1810: 1, 1809: 1, 1808: 1, 1807: 1, 1804: 1, 1803: 1, 1799: 1, 1797: 1, 1796: 1, 1795: 1, 1790: 1, 1789: 1, 1788: 1, 1783: 1, 1778: 1, 1776: 1, 1772: 1, 1766: 1, 1765: 1, 1761: 1, 1759: 1, 1754: 1, 1752: 1, 1749: 1, 1744: 1, 1740: 1, 1730: 1, 1727: 1, 1724: 1, 1723: 1, 1716: 1, 1712: 1, 1711: 1, 1709: 1, 1702: 1, 1701: 1, 1700: 1, 1693: 1, 1690: 1, 1688: 1, 1686: 1, 1685: 1, 1683: 1, 1675: 1, 1667: 1, 1666: 1, 1665: 1, 1664: 1, 1659: 1, 1653: 1, 1652: 1, 1651: 1, 1650: 1, 1649: 1, 1646: 1, 1645: 1, 1643: 1, 1641: 1, 1639: 1, 1638: 1, 1635: 1, 1634: 1, 1633: 1, 1631: 1, 1628: 1, 1626: 1, 1624: 1, 1622: 1, 1620: 1, 1618: 1, 1616: 1, 1615: 1, 1614: 1, 1610: 1, 1609: 1, 1607: 1, 1606: 1, 1604: 1, 1599: 1, 1597: 1, 1594: 1, 1589: 1, 1587: 1, 1586: 1, 1584: 1, 1580: 1, 1579: 1, 1578: 1, 1568: 1, 1566: 1, 1564: 1, 1559: 1, 1557: 1, 1556: 1, 1555: 1, 1552: 1, 1550: 1, 1549: 1, 1546: 1, 1545: 1, 1544: 1, 1542: 1, 1540: 1, 1539: 1, 1538: 1, 1535: 1, 1532: 1, 1530: 1, 1525: 1, 1523: 1, 1517: 1, 1515: 1, 1513: 1, 1508: 1, 1507: 1, 1505: 1, 1502: 1, 1499: 1, 1495: 1, 1493: 1, 1492: 1, 1491: 1, 1489: 1, 1485: 1, 1484: 1, 1481: 1, 1479: 1, 1477: 1, 1474: 1, 1458: 1, 1455: 1, 1452: 1, 1451: 1, 1450: 1, 1444: 1, 1438: 1, 1436: 1, 1435: 1, 1434: 1, 1433: 1, 1430: 1, 1426: 1, 1424: 1, 1423: 1, 1418: 1, 1411: 1, 1405: 1, 1404: 1, 1403: 1, 1401: 1, 1400: 1, 1397: 1, 1391: 1, 1388: 1, 1385: 1, 1383: 1, 1382: 1, 1380: 1, 1379: 1, 1378: 1, 1373: 1, 1363: 1, 1361: 1, 1360: 1, 1359: 1, 1357: 1, 1353: 1, 1351: 1, 1349: 1, 1345: 1, 1342: 1, 1339: 1, 1334: 1, 1333: 1, 1331: 1, 1328: 1, 1326: 1, 1324: 1, 1320: 1, 1317: 1, 1310: 1, 1309: 1, 1307: 1, 1301: 1, 1299: 1, 1296: 1, 1294: 1, 1293: 1, 1292: 1, 1288: 1, 1287: 1, 1284: 1, 1282: 1, 1278: 1, 1275: 1, 1274: 1, 1273: 1, 1272: 1, 1269: 1, 1268: 1, 1263: 1, 1260: 1, 1244: 1, 1242: 1, 1241: 1, 1239: 1, 1237: 1, 1236: 1, 1229: 1, 1227: 1, 1225: 1, 1222: 1, 1216: 1, 1213: 1, 1210: 1, 1209: 1, 1207: 1, 1206: 1, 1204: 1, 1197: 1, 1196: 1, 1192: 1, 1190: 1, 1187: 1, 1186: 1, 1185: 1, 1181: 1, 1179: 1, 1163: 1, 1158: 1, 1153: 1, 1152: 1, 1151: 1, 1150: 1, 1149: 1, 1147: 1, 1145: 1, 1140: 1, 1139: 1, 1134: 1, 1133: 1, 1130: 1, 1126: 1, 1120: 1, 1115: 1, 1111: 1, 1108: 1, 1106: 1, 1103: 1, 1102: 1, 1101: 1, 1100: 1, 1095: 1, 1081: 1, 1080: 1, 1078: 1, 1077: 1, 1076: 1, 1075: 1, 1072: 1, 1070: 1, 1068: 1, 1067: 1, 1065: 1, 1062: 1, 1056: 1, 1050: 1, 1046: 1, 1045: 1, 1040: 1, 1035: 1, 1033: 1, 1024: 1, 1022: 1, 1021: 1, 1019: 1, 1016: 1, 1012: 1, 1009: 1, 1007: 1, 1006: 1, 998: 1, 997: 1, 996: 1, 995: 1, 982: 1, 976: 1, 968: 1, 965: 1, 963: 1, 961: 1, 956: 1, 954: 1, 953: 1, 952: 1, 949: 1, 946: 1, 945: 1, 944: 1, 942: 1, 941: 1, 940: 1, 934: 1, 923: 1, 920: 1, 919: 1, 917: 1, 915: 1, 913: 1, 911: 1, 909: 1, 908: 1, 903: 1, 902: 1, 898: 1, 897: 1, 891: 1, 890: 1, 883: 1, 882: 1, 880: 1, 877: 1, 867: 1, 864: 1, 857: 1, 855: 1, 846: 1, 843: 1, 830: 1, 829: 1, 828: 1, 807: 1, 805: 1, 804: 1, 800: 1, 796: 1, 783: 1, 782: 1, 777: 1, 763: 1, 761: 1, 759: 1, 751: 1, 747: 1, 738: 1, 736: 1, 734: 1, 731: 1, 723: 1, 712: 1, 703: 1, 702: 1, 696: 1, 682: 1, 681: 1, 675: 1, 668: 1, 667: 1, 665: 1, 652: 1, 636: 1, 617: 1, 616: 1, 602: 1, 587: 1, 548: 1, 530: 1, 522: 1, 512: 1, 421: 1, 384: 1})\n"
     ]
    }
   ],
   "source": [
    "print(NoOfWord_Occurrence)\n",
    "#this will print a dictionary where keys are number of word and its values are the number of times that word in appearing in\n",
    "#train data. For eg, in below dictionary 3 words are occurring 5325 times, 4 words are occurring 3439 times and so on."
   ]
  },
  {
   "cell_type": "markdown",
   "metadata": {},
   "source": [
    "### Is the text feature useful in predicitng y_i?"
   ]
  },
  {
   "cell_type": "code",
   "execution_count": 80,
   "metadata": {},
   "outputs": [
    {
     "name": "stdout",
     "output_type": "stream",
     "text": [
      "For alpha value of 1e-05 CV log loss = 1.8319637044429844\n",
      "For alpha value of 0.0001 CV log loss = 1.556403046457776\n",
      "For alpha value of 0.001 CV log loss = 1.3942256088913025\n",
      "For alpha value of 0.01 CV log loss = 1.3885294044609282\n",
      "For alpha value of 0.1 CV log loss = 1.281699630378601\n",
      "For alpha value of 1 CV log loss = 1.1144971327761948\n",
      "For alpha value of 10 CV log loss = 1.119463882190078\n",
      "For alpha value of 15 CV log loss = 1.1291693252319857\n",
      "For alpha value of 20 CV log loss = 1.1396258319267831\n",
      "For alpha value of 40 CV log loss = 1.1743931054055414\n"
     ]
    },
    {
     "data": {
      "image/png": "[encoded data removed]",
      "text/plain": [
       "<Figure size 864x504 with 1 Axes>"
      ]
     },
     "metadata": {
      "needs_background": "light"
     },
     "output_type": "display_data"
    }
   ],
   "source": [
    "alpha = [10 ** x for x in range(-5, 2)]\n",
    "alpha.append(15)\n",
    "alpha.append(20)\n",
    "alpha.append(40)\n",
    "\n",
    "cv_log_loss = []\n",
    "for i in alpha:\n",
    "    clf = SGDClassifier(alpha=i, penalty='l2', loss='log', random_state=42)\n",
    "    clf.fit(train_text_feature_tfidf, TrainDataLabels)\n",
    "    calib_clf = CalibratedClassifierCV(clf, method = \"sigmoid\")\n",
    "    calib_clf.fit(train_text_feature_tfidf, TrainDataLabels)\n",
    "    predicted_y = calib_clf.predict_proba(cv_text_feature_tfidf)\n",
    "    cv_log_loss.append(log_loss(CV_Data_Labels, predicted_y, labels=clf.classes_))\n",
    "    print(\"For alpha value of \"+str(i)+\" CV log loss = \"+str(log_loss(CV_Data_Labels, predicted_y, labels=clf.classes_)))\n",
    "\n",
    "plt.figure(figsize = (12, 7))\n",
    "plt.plot(alpha, cv_log_loss)\n",
    "for xy in zip(alpha, np.round(cv_log_loss, 4)):\n",
    "    plt.annotate(xy, xy)\n",
    "    \n",
    "plt.title(\"Alpha vs Log-loss\", fontsize = 20)\n",
    "plt.xlabel(\"Alpha\", fontsize = 20)\n",
    "plt.ylabel(\"Log-Loss\", fontsize = 20)\n",
    "plt.show()"
   ]
  },
  {
   "cell_type": "code",
   "execution_count": 81,
   "metadata": {},
   "outputs": [
    {
     "name": "stdout",
     "output_type": "stream",
     "text": [
      "For values of best alpha =  1 the train log loss =: 0.5642905851156057\n",
      "For values of best alpha =  1 the CV log loss =: 1.1144971327761948\n",
      "For values of best alpha =  1 the test log loss =: 1.0627781663251301\n"
     ]
    }
   ],
   "source": [
    "best_alpha = alpha[np.argmin(cv_log_loss)]\n",
    "clf = SGDClassifier(alpha=best_alpha, penalty='l2', loss='log', random_state=42)\n",
    "clf.fit(train_text_feature_tfidf, TrainDataLabels)\n",
    "calib_clf = CalibratedClassifierCV(clf, method = \"sigmoid\")\n",
    "calib_clf.fit(train_text_feature_tfidf, TrainDataLabels)\n",
    "\n",
    "predict_train = calib_clf.predict_proba(train_text_feature_tfidf)\n",
    "print('For values of best alpha = ', best_alpha, \"the train log loss =:\",log_loss(TrainDataLabels, predict_train, labels=clf.classes_))\n",
    "\n",
    "predict_cv = calib_clf.predict_proba(cv_text_feature_tfidf)\n",
    "print('For values of best alpha = ', best_alpha, \"the CV log loss =:\",log_loss(CV_Data_Labels, predict_cv, labels=clf.classes_))\n",
    "\n",
    "predict_test = calib_clf.predict_proba(test_text_feature_tfidf)\n",
    "print('For values of best alpha = ', best_alpha, \"the test log loss =:\",log_loss(TestLabels, predict_test, labels=clf.classes_))"
   ]
  },
  {
   "cell_type": "markdown",
   "metadata": {},
   "source": [
    "### Is the text feature stable across train, test and CV datasets?"
   ]
  },
  {
   "cell_type": "code",
   "execution_count": 68,
   "metadata": {},
   "outputs": [],
   "source": [
    "def checkingCommonFeatures(df):\n",
    "    count_vect = CountVectorizer(min_df = 3)\n",
    "    BoWMatrx = count_vect.fit_transform(df[\"Text\"])\n",
    "    BoWMatrxFeatures = count_vect.get_feature_names()\n",
    "    BoWMatrxFeaturesUnique = len(set(BoWMatrxFeatures))\n",
    "    commonFeatures = len(set(TrainFeatures) & set(BoWMatrxFeatures))\n",
    "    return BoWMatrxFeaturesUnique, commonFeatures"
   ]
  },
  {
   "cell_type": "code",
   "execution_count": 69,
   "metadata": {},
   "outputs": [],
   "source": [
    "count_vect = CountVectorizer(min_df = 3)\n",
    "BoWMatrx = count_vect.fit_transform(TestData[\"Text\"])\n",
    "BoWMatrxFeatures = count_vect.get_feature_names()"
   ]
  },
  {
   "cell_type": "code",
   "execution_count": 70,
   "metadata": {},
   "outputs": [
    {
     "name": "stdout",
     "output_type": "stream",
     "text": [
      "Percentage of common features in train and test data = 96.2857%\n",
      "Percentage of common features in train and CV data = 97.424%\n"
     ]
    }
   ],
   "source": [
    "len1, len2 = checkingCommonFeatures(TestData)\n",
    "print(\"Percentage of common features in train and test data = \"+str(np.round((len2/len1)*100, 4))+\"%\")\n",
    "#it prints: Out of total features in test data, how many features are also present in train data\n",
    "len3, len4 = checkingCommonFeatures(CV_Data)\n",
    "print(\"Percentage of common features in train and CV data = \"+str(np.round((len4/len3)*100, 4))+\"%\")\n",
    "#it prints: Out of total features in CV data, how many features are also present in train data"
   ]
  },
  {
   "cell_type": "markdown",
   "metadata": {},
   "source": [
    "<h1>Machine Learning Model</h1>"
   ]
  },
  {
   "cell_type": "code",
   "execution_count": 71,
   "metadata": {},
   "outputs": [],
   "source": [
    "# for the given indices, we will print the name of the features\n",
    "# and we will check whether the feature present in the test point text or not\n",
    "def getImportantFeatures(indices, gene, variation, text, noOfFeatures):\n",
    "    #these are the vectorized form of the features\n",
    "    gene_vect = CountVectorizer()\n",
    "    var_vect = CountVectorizer()\n",
    "    text_vect = TfidfVectorizer(ngram_range = (1,2), stop_words = \"english\", min_df = 3, max_features = 100000)\n",
    "    \n",
    "    geneVect = gene_vect.fit(TrainData['Gene'])\n",
    "    varVect  = var_vect.fit(TrainData['Variation'])\n",
    "    textVect = text_vect.fit(TrainData['Text'])\n",
    "    \n",
    "    gene_features = gene_vect.get_feature_names()\n",
    "    variation_features = varVect.get_feature_names()          #explaination\n",
    "    text_features = text_vect.get_feature_names()\n",
    "    \n",
    "    gene_feat_len = len(gene_features)\n",
    "    var_feat_len = len(variation_features)\n",
    "    \n",
    "    First = [x1 for x1 in range(0, 491, 10)]\n",
    "    del First[1]\n",
    "    Second = [x2 for x2 in range(1, 492, 10)]\n",
    "    del Second[1]\n",
    "    Third = [x3 for x3 in range(2, 493, 10)]\n",
    "    del Third[1]\n",
    "    \n",
    "    word_present = 0\n",
    "    for i, v in enumerate(indices):\n",
    "        if v < gene_feat_len:\n",
    "            word = gene_features[v]\n",
    "            \n",
    "            if word == gene:\n",
    "                word_present += 1\n",
    "                \n",
    "                if i in First:\n",
    "                    print(\"{}st Gene feature [{}] is present in query point\".format(i+1, word))\n",
    "                \n",
    "                elif i in Second:\n",
    "                    print(\"{}nd Gene feature [{}] is present in query point\".format(i+1, word))\n",
    "                \n",
    "                elif i in Third:\n",
    "                    print(\"{}rd Gene feature [{}] is present in query point\".format(i+1, word))\n",
    "                    \n",
    "                else:\n",
    "                    print(\"{}th Gen feature [{}] is present in query point\".format(i+1, word))\n",
    "                    \n",
    "        elif v < gene_feat_len + var_feat_len:\n",
    "            word = variation_features[v - gene_feat_len]\n",
    "            \n",
    "            if word == variation:\n",
    "                word_present += 1\n",
    "                if i in First:\n",
    "                    print(\"{}st Variation feature [{}] is present in query point\".format(i+1, word))\n",
    "                \n",
    "                elif i in Second:\n",
    "                    print(\"{}nd Variation feature [{}] is present in query point\".format(i+1, word))\n",
    "                \n",
    "                elif i in Third:\n",
    "                    print(\"{}rd Variation feature [{}] is present in query point\".format(i+1, word))\n",
    "                    \n",
    "                else:\n",
    "                    print(\"{}th Variation feature [{}] is present in query point\".format(i+1, word))\n",
    "        else:\n",
    "            word = text_features[v - (gene_feat_len + var_feat_len)]\n",
    "            \n",
    "            if word in text.split():\n",
    "                word_present += 1\n",
    "                \n",
    "                if i in First:\n",
    "                    print(\"{}st Text feature [{}] is present in query point\".format(i+1, word))\n",
    "                \n",
    "                elif i in Second:\n",
    "                    print(\"{}nd Text feature [{}] is present in query point\".format(i+1, word))\n",
    "                \n",
    "                elif i in Third:\n",
    "                    print(\"{}rd Text feature [{}] is present in query point\".format(i+1, word))\n",
    "                    \n",
    "                else:\n",
    "                    print(\"{}th Text feature [{}] is present in query point\".format(i+1, word))\n",
    "                    \n",
    "    print(\"-\"*63)                \n",
    "    print(\"Out of the top \"+str(noOfFeatures)+\" features \"+str(word_present)+\" are present in query point\")\n",
    "\n"
   ]
  },
  {
   "cell_type": "code",
   "execution_count": 72,
   "metadata": {},
   "outputs": [],
   "source": [
    "table = pd.DataFrame(columns = [\"Model\", \"Train Log-loss\", \"CV Log-loss\", \"Test Log-loss\", \"Mis-Classified CV\", \"Mis-Classified Test\", \"Remarks\"])"
   ]
  },
  {
   "cell_type": "markdown",
   "metadata": {},
   "source": [
    "<h1>Stacking three types of classifier</h1>"
   ]
  },
  {
   "cell_type": "code",
   "execution_count": 73,
   "metadata": {},
   "outputs": [],
   "source": [
    "\n",
    "train_gene_var_oneHotEncode = hstack((train_gene_feature_onehotCoding, train_variation_feature_onehotCoding))\n",
    "cv_gene_var_oneHotEncode = hstack((cv_gene_feature_onehotCoding, cv_variation_feature_onehotCoding))\n",
    "test_gene_var_oneHotEncode = hstack((test_gene_feature_onehotCoding, test_variation_feature_onehotCoding))\n",
    "\n",
    "Train_X = hstack((train_gene_var_oneHotEncode, train_text_feature_tfidf))\n",
    "Train_X = Train_X.tocsr()\n",
    "Train_Y = np.array(list(TrainDataLabels))\n",
    "\n",
    "CV_X = hstack((cv_gene_var_oneHotEncode, cv_text_feature_tfidf))\n",
    "CV_X = CV_X.tocsr()\n",
    "CV_Y = np.array(list(CV_Data_Labels))\n",
    "\n",
    "Test_X = hstack((test_gene_var_oneHotEncode, test_text_feature_tfidf))\n",
    "Test_X = Test_X.tocsr()\n",
    "Test_Y = np.array(list(TestLabels))"
   ]
  },
  {
   "cell_type": "code",
   "execution_count": 74,
   "metadata": {},
   "outputs": [
    {
     "name": "stdout",
     "output_type": "stream",
     "text": [
      "Shape of One hot encoded Gene and Variation, TFIDF text stacked vector for Train Data = (2121, 102190)\n",
      "Shape of One hot encoded Gene and Variation, TFIDF text stacked vector for CV Data = (531, 102190)\n",
      "Shape of One hot encoded Gene and Variation, TFIDF text stacked vector for Test Data = (664, 102190)\n"
     ]
    }
   ],
   "source": [
    "print(\"Shape of One hot encoded Gene and Variation, TFIDF text stacked vector for Train Data = \"+str(Train_X.shape))\n",
    "print(\"Shape of One hot encoded Gene and Variation, TFIDF text stacked vector for CV Data = \"+str(CV_X.shape))\n",
    "print(\"Shape of One hot encoded Gene and Variation, TFIDF text stacked vector for Test Data = \"+str(Test_X.shape))"
   ]
  },
  {
   "cell_type": "code",
   "execution_count": null,
   "metadata": {},
   "outputs": [],
   "source": []
  },
  {
   "cell_type": "code",
   "execution_count": null,
   "metadata": {},
   "outputs": [],
   "source": []
  },
  {
   "cell_type": "markdown",
   "metadata": {},
   "source": [
    "## Base Line Models"
   ]
  },
  {
   "cell_type": "markdown",
   "metadata": {},
   "source": [
    "### Naive Bayes"
   ]
  },
  {
   "cell_type": "markdown",
   "metadata": {},
   "source": [
    "#### Hyper-Parameter Tuning"
   ]
  },
  {
   "cell_type": "code",
   "execution_count": 75,
   "metadata": {},
   "outputs": [
    {
     "name": "stdout",
     "output_type": "stream",
     "text": [
      "For alpha value of 1e-05 CV log loss = 1.2656838990170531\n",
      "For alpha value of 0.0001 CV log loss = 1.2656574999144734\n",
      "For alpha value of 0.001 CV log loss = 1.269166826845206\n",
      "For alpha value of 0.01 CV log loss = 1.2678470353976408\n",
      "For alpha value of 0.1 CV log loss = 1.2731802093449802\n",
      "For alpha value of 1 CV log loss = 1.298166139199136\n",
      "For alpha value of 10 CV log loss = 1.3218336344631494\n",
      "For alpha value of 100 CV log loss = 1.391658927732578\n",
      "For alpha value of 1000 CV log loss = 1.450696992469677\n",
      "For alpha value of 10000 CV log loss = 1.4565746203099863\n"
     ]
    },
    {
     "data": {
      "image/png": "[encoded data removed]",
      "text/plain": [
       "<Figure size 864x504 with 1 Axes>"
      ]
     },
     "metadata": {
      "needs_background": "light"
     },
     "output_type": "display_data"
    }
   ],
   "source": [
    "alpha = [10**x for x in range(-5, 5)]\n",
    "\n",
    "cv_log_loss = []\n",
    "for i in alpha:\n",
    "    clf = MultinomialNB(alpha=i)\n",
    "    clf.fit(Train_X, Train_Y)\n",
    "    calib_clf = CalibratedClassifierCV(clf, method = \"sigmoid\")\n",
    "    #The CalibratedClassifierCV class is used to calibrate a classifier. CalibratedClassifierCV uses a cross-validation\n",
    "    #approach to ensure unbiased data is always used to fit the calibrator. The data is split into k (train_set, test_set) \n",
    "    #couples (as determined by cv ).\n",
    "    \n",
    "    calib_clf.fit(Train_X, Train_Y)\n",
    "    predicted_y = calib_clf.predict_proba(CV_X)\n",
    "    cv_log_loss.append(log_loss(CV_Y, predicted_y, labels=clf.classes_))\n",
    "    print(\"For alpha value of \"+str(i)+\" CV log loss = \"+str(log_loss(CV_Y, predicted_y, labels=clf.classes_)))\n",
    "\n",
    "plt.figure(figsize = (12, 7))\n",
    "plt.plot(alpha, cv_log_loss)\n",
    "for xy in zip(alpha, np.round(cv_log_loss, 4)):\n",
    "    plt.annotate(xy, xy)\n",
    "    \n",
    "plt.title(\"Alpha vs Log-loss\", fontsize = 20)\n",
    "plt.xlabel(\"Alpha\", fontsize = 20)\n",
    "plt.ylabel(\"Log-Loss\", fontsize = 20)\n",
    "plt.show()"
   ]
  },
  {
   "cell_type": "markdown",
   "metadata": {},
   "source": [
    "<h2>Testing with best hyper-parameter</h2>"
   ]
  },
  {
   "cell_type": "code",
   "execution_count": 76,
   "metadata": {},
   "outputs": [
    {
     "name": "stdout",
     "output_type": "stream",
     "text": [
      "For values of best alpha =  0.0001 the train log loss =: 0.9223095504297041\n",
      "For values of best alpha =  0.0001 the CV log loss =: 1.2656574999144734\n",
      "For values of best alpha =  0.0001 the test log loss =: 1.3755008217263263\n"
     ]
    }
   ],
   "source": [
    "best_alpha = alpha[np.argmin(cv_log_loss)]\n",
    "clf = MultinomialNB(alpha=best_alpha)\n",
    "clf.fit(Train_X, Train_Y)\n",
    "calib_clf = CalibratedClassifierCV(clf, method = \"sigmoid\")\n",
    "calib_clf.fit(Train_X, Train_Y)\n",
    "\n",
    "predict_train = calib_clf.predict_proba(Train_X)\n",
    "print('For values of best alpha = ', best_alpha, \"the train log loss =:\",log_loss(Train_Y, predict_train, labels=clf.classes_))\n",
    "\n",
    "predict_cv = calib_clf.predict_proba(CV_X)\n",
    "print('For values of best alpha = ', best_alpha, \"the CV log loss =:\",log_loss(CV_Y, predict_cv, labels=clf.classes_))\n",
    "\n",
    "predict_test = calib_clf.predict_proba(Test_X)\n",
    "print('For values of best alpha = ', best_alpha, \"the test log loss =:\",log_loss(Test_Y, predict_test, labels=clf.classes_))"
   ]
  },
  {
   "cell_type": "code",
   "execution_count": 77,
   "metadata": {},
   "outputs": [
    {
     "name": "stdout",
     "output_type": "stream",
     "text": [
      "Percentage of mis-classified for CV points = 37.1%\n",
      "Percentage of mis-classified for Test points = 42.47%\n"
     ]
    }
   ],
   "source": [
    "print(\"Percentage of mis-classified for CV points = \"+str(np.round((np.count_nonzero(calib_clf.predict(CV_X) - CV_Y)/CV_X.shape[0]*100), 2))+\"%\")\n",
    "print(\"Percentage of mis-classified for Test points = \"+str(np.round((np.count_nonzero(calib_clf.predict(Test_X) - Test_Y)/Test_X.shape[0]*100), 2))+\"%\")"
   ]
  },
  {
   "cell_type": "code",
   "execution_count": 78,
   "metadata": {},
   "outputs": [],
   "source": [
    "table = table.append(pd.DataFrame([[\"Naive Bayes\", 0.9031, 1.3471, 1.2976, \"42.75%\", \"39.46%\", \"GoodFit\"]], columns = [\"Model\", \"Train Log-loss\", \"CV Log-loss\", \"Test Log-loss\", \"Mis-Classified CV\", \"Mis-Classified Test\", \"Remarks\"]))"
   ]
  },
  {
   "cell_type": "code",
   "execution_count": 79,
   "metadata": {},
   "outputs": [
    {
     "data": {
      "image/png": "[encoded data removed]",
      "text/plain": [
       "<Figure size 1440x504 with 2 Axes>"
      ]
     },
     "metadata": {
      "needs_background": "light"
     },
     "output_type": "display_data"
    },
    {
     "name": "stdout",
     "output_type": "stream",
     "text": [
      "-----------------------------------------------------------------------------------------------------------------------------\n"
     ]
    },
    {
     "data": {
      "image/png": "[encoded data removed]",
      "text/plain": [
       "<Figure size 1440x504 with 2 Axes>"
      ]
     },
     "metadata": {
      "needs_background": "light"
     },
     "output_type": "display_data"
    },
    {
     "name": "stdout",
     "output_type": "stream",
     "text": [
      "-----------------------------------------------------------------------------------------------------------------------------\n"
     ]
    },
    {
     "data": {
      "image/png": "[encoded data removed]",
      "text/plain": [
       "<Figure size 1440x504 with 2 Axes>"
      ]
     },
     "metadata": {
      "needs_background": "light"
     },
     "output_type": "display_data"
    }
   ],
   "source": [
    "print_confusionMatrix(Test_Y, calib_clf.predict(Test_X))"
   ]
  },
  {
   "cell_type": "markdown",
   "metadata": {},
   "source": [
    "<h2>Checking first 100 important features for correctly classified test point</h2>"
   ]
  },
  {
   "cell_type": "code",
   "execution_count": 78,
   "metadata": {
    "scrolled": false
   },
   "outputs": [
    {
     "name": "stdout",
     "output_type": "stream",
     "text": [
      "Predicted Class label for test point = 4\n",
      "Predicted Probabilities for test point = [[0.0819 0.0732 0.0118 0.6714 0.0351 0.0361 0.0809 0.005  0.0046]]\n",
      "True class label for test point = 4\n",
      "---------------------------------------------------------------\n",
      "1st Text feature [shown] is present in query point\n",
      "2nd Text feature [results] is present in query point\n",
      "3rd Text feature [protein] is present in query point\n",
      "4th Text feature [using] is present in query point\n",
      "5th Text feature [activity] is present in query point\n",
      "6th Text feature [described] is present in query point\n",
      "7th Text feature [proteins] is present in query point\n",
      "8th Text feature [determined] is present in query point\n",
      "9th Text feature [type] is present in query point\n",
      "10th Text feature [previously] is present in query point\n",
      "11th Text feature [mutations] is present in query point\n",
      "12th Text feature [experiments] is present in query point\n",
      "13th Text feature [indicated] is present in query point\n",
      "14th Text feature [important] is present in query point\n",
      "15th Text feature [function] is present in query point\n",
      "16th Text feature [cells] is present in query point\n",
      "17th Text feature [analysis] is present in query point\n",
      "18th Text feature [acid] is present in query point\n",
      "19th Text feature [expressed] is present in query point\n",
      "20th Text feature [addition] is present in query point\n",
      "21st Text feature [indicate] is present in query point\n",
      "22nd Text feature [similar] is present in query point\n",
      "23rd Text feature [amino] is present in query point\n",
      "26th Text feature [levels] is present in query point\n",
      "27th Text feature [suggest] is present in query point\n",
      "28th Text feature [30] is present in query point\n",
      "29th Text feature [expression] is present in query point\n",
      "30th Text feature [10] is present in query point\n",
      "31st Text feature [containing] is present in query point\n",
      "32nd Text feature [analyzed] is present in query point\n",
      "33rd Text feature [performed] is present in query point\n",
      "34th Text feature [ability] is present in query point\n",
      "36th Text feature [associated] is present in query point\n",
      "37th Text feature [vitro] is present in query point\n",
      "38th Text feature [determine] is present in query point\n",
      "39th Text feature [loss] is present in query point\n",
      "41st Text feature [effects] is present in query point\n",
      "43rd Text feature [compared] is present in query point\n",
      "44th Text feature [lower] is present in query point\n",
      "45th Text feature [result] is present in query point\n",
      "46th Text feature [reported] is present in query point\n",
      "47th Text feature [reduced] is present in query point\n",
      "48th Text feature [previous] is present in query point\n",
      "49th Text feature [functions] is present in query point\n",
      "50th Text feature [control] is present in query point\n",
      "51st Text feature [possible] is present in query point\n",
      "52nd Text feature [suggesting] is present in query point\n",
      "54th Text feature [used] is present in query point\n",
      "55th Text feature [cell] is present in query point\n",
      "56th Text feature [indicating] is present in query point\n",
      "57th Text feature [mutant] is present in query point\n",
      "58th Text feature [including] is present in query point\n",
      "59th Text feature [mutation] is present in query point\n",
      "60th Text feature [figure] is present in query point\n",
      "61st Text feature [transfected] is present in query point\n",
      "62nd Text feature [missense] is present in query point\n",
      "63rd Text feature [different] is present in query point\n",
      "64th Text feature [15] is present in query point\n",
      "65th Text feature [critical] is present in query point\n",
      "66th Text feature [respectively] is present in query point\n",
      "67th Text feature [generated] is present in query point\n",
      "69th Text feature [contribute] is present in query point\n",
      "70th Text feature [retained] is present in query point\n",
      "71st Text feature [transfection] is present in query point\n",
      "72nd Text feature [mammalian] is present in query point\n",
      "73rd Text feature [vector] is present in query point\n",
      "74th Text feature [high] is present in query point\n",
      "75th Text feature [table] is present in query point\n",
      "76th Text feature [indicates] is present in query point\n",
      "77th Text feature [purified] is present in query point\n",
      "78th Text feature [bind] is present in query point\n",
      "79th Text feature [contrast] is present in query point\n",
      "80th Text feature [25] is present in query point\n",
      "81st Text feature [role] is present in query point\n",
      "82nd Text feature [showed] is present in query point\n",
      "83rd Text feature [directly] is present in query point\n",
      "84th Text feature [functional] is present in query point\n",
      "85th Text feature [resulting] is present in query point\n",
      "86th Text feature [tagged] is present in query point\n",
      "87th Text feature [incubated] is present in query point\n",
      "88th Text feature [data] is present in query point\n",
      "89th Text feature [involved] is present in query point\n",
      "90th Text feature [did] is present in query point\n",
      "91st Text feature [human] is present in query point\n",
      "93rd Text feature [standard] is present in query point\n",
      "94th Text feature [affect] is present in query point\n",
      "95th Text feature [tested] is present in query point\n",
      "96th Text feature [vivo] is present in query point\n",
      "97th Text feature [suggested] is present in query point\n",
      "99th Text feature [required] is present in query point\n",
      "100th Text feature [according] is present in query point\n",
      "---------------------------------------------------------------\n",
      "Out of the top 100 features 91 are present in query point\n"
     ]
    }
   ],
   "source": [
    "testDataPoint = 5            #we are taking the fifth training example.\n",
    "no_feature = 100             #?\n",
    "predicted_cls = calib_clf.predict(Test_X[testDataPoint])   #predicted_y   #calib_clf is our model\n",
    "TrueLabel = Test_Y[testDataPoint]                          #true_y\n",
    "predicted_prob = np.round(calib_clf.predict_proba(Test_X[testDataPoint]), 4)  #probability of success return garxa\n",
    "print(\"Predicted Class label for test point = \"+str(predicted_cls[0]))\n",
    "print(\"Predicted Probabilities for test point = \"+str(predicted_prob))\n",
    "print(\"True class label for test point = \"+str(TrueLabel))\n",
    "indices = np.argsort(-clf.coef_)[predicted_cls-1][:,:no_feature]\n",
    "print(\"-\"*63)\n",
    "getImportantFeatures(indices[0], TestData.iloc[testDataPoint][\"Gene\"], TestData.iloc[testDataPoint][\"Variation\"], TestData.iloc[testDataPoint][\"Text\"], no_feature)"
   ]
  },
  {
   "cell_type": "markdown",
   "metadata": {},
   "source": [
    "<h2>Checking first 100 important features for incorrectly classified test point</h2>"
   ]
  },
  {
   "cell_type": "code",
   "execution_count": 79,
   "metadata": {},
   "outputs": [
    {
     "name": "stdout",
     "output_type": "stream",
     "text": [
      "Predicted Class label for test point = 6\n",
      "Predicted Probabilities for test point [0.076  0.0685 0.0109 0.093  0.0326 0.6342 0.0758 0.0046 0.0043]\n",
      "True class label for test point = 6\n",
      "---------------------------------------------------------------\n",
      "3rd Text feature [predicted] is present in query point\n",
      "5th Text feature [expected] is present in query point\n",
      "6th Text feature [analysis] is present in query point\n",
      "8th Text feature [used] is present in query point\n",
      "12th Text feature [57] is present in query point\n",
      "14th Text feature [basis] is present in query point\n",
      "18th Text feature [sequence] is present in query point\n",
      "43rd Text feature [odds] is present in query point\n",
      "54th Text feature [model] is present in query point\n",
      "56th Text feature [significant] is present in query point\n",
      "58th Text feature [known] is present in query point\n",
      "61st Text feature [deleterious] is present in query point\n",
      "66th Text feature [family] is present in query point\n",
      "69th Text feature [personal] is present in query point\n",
      "70th Text feature [43] is present in query point\n",
      "71st Text feature [data] is present in query point\n",
      "72nd Text feature [carry] is present in query point\n",
      "77th Text feature [34] is present in query point\n",
      "79th Text feature [classified] is present in query point\n",
      "85th Text feature [10] is present in query point\n",
      "91st Text feature [evidence] is present in query point\n",
      "94th Text feature [combined] is present in query point\n",
      "100th Text feature [using] is present in query point\n",
      "---------------------------------------------------------------\n",
      "Out of the top 100 features 23 are present in query point\n"
     ]
    }
   ],
   "source": [
    "testDataPoint = 10\n",
    "no_feature = 100\n",
    "predicted_cls = calib_clf.predict(Test_X[testDataPoint])\n",
    "TrueLabel = Test_Y[testDataPoint]\n",
    "predicted_prob = np.round(calib_clf.predict_proba(Test_X[testDataPoint]), 4)\n",
    "print(\"Predicted Class label for test point = \"+str(predicted_cls[0]))\n",
    "print(\"Predicted Probabilities for test point \", end='')\n",
    "print(predicted_prob[0])\n",
    "print(\"True class label for test point = \"+str(TrueLabel))\n",
    "indices = np.argsort(-clf.coef_)[predicted_cls-1][:,:no_feature]\n",
    "print(\"-\"*63)\n",
    "getImportantFeatures(indices[0], TestData.iloc[testDataPoint][\"Gene\"], TestData.iloc[testDataPoint][\"Variation\"], TestData.iloc[testDataPoint][\"Text\"], no_feature)"
   ]
  }
 ],
 "metadata": {
  "kernelspec": {
   "display_name": "Python 3 (ipykernel)",
   "language": "python",
   "name": "python3"
  },
  "language_info": {
   "codemirror_mode": {
    "name": "ipython",
    "version": 3
   },
   "file_extension": ".py",
   "mimetype": "text/x-python",
   "name": "python",
   "nbconvert_exporter": "python",
   "pygments_lexer": "ipython3",
   "version": "3.9.12"
  }
 },
 "nbformat": 4,
 "nbformat_minor": 2
}
